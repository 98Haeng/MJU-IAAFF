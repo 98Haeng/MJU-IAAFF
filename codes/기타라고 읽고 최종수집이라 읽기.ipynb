{
 "cells": [
  {
   "cell_type": "code",
   "execution_count": 1,
   "id": "505930c1",
   "metadata": {},
   "outputs": [],
   "source": [
    "import pandas as pd\n",
    "import numpy as np\n",
    "import os\n",
    "import warnings\n",
    "warnings.filterwarnings('ignore')"
   ]
  },
  {
   "cell_type": "code",
   "execution_count": 2,
   "id": "8e3e9494",
   "metadata": {},
   "outputs": [],
   "source": [
    "df = pd.read_csv('./Data/Preprocess_Data/Abstract_preprocessing.csv')"
   ]
  },
  {
   "cell_type": "code",
   "execution_count": 3,
   "id": "0981273c",
   "metadata": {},
   "outputs": [
    {
     "data": {
      "text/html": [
       "<div>\n",
       "<style scoped>\n",
       "    .dataframe tbody tr th:only-of-type {\n",
       "        vertical-align: middle;\n",
       "    }\n",
       "\n",
       "    .dataframe tbody tr th {\n",
       "        vertical-align: top;\n",
       "    }\n",
       "\n",
       "    .dataframe thead th {\n",
       "        text-align: right;\n",
       "    }\n",
       "</style>\n",
       "<table border=\"1\" class=\"dataframe\">\n",
       "  <thead>\n",
       "    <tr style=\"text-align: right;\">\n",
       "      <th></th>\n",
       "      <th>Title</th>\n",
       "      <th>Year</th>\n",
       "      <th>Abstract</th>\n",
       "      <th>Author Keywords</th>\n",
       "      <th>Index Keywords</th>\n",
       "      <th>Abstract2</th>\n",
       "    </tr>\n",
       "  </thead>\n",
       "  <tbody>\n",
       "    <tr>\n",
       "      <th>0</th>\n",
       "      <td>Copyright protection in Peer-to-Peer networks ...</td>\n",
       "      <td>2013</td>\n",
       "      <td>a method for peer to peer streaming of video o...</td>\n",
       "      <td>NaN</td>\n",
       "      <td>Housing; Peer to peer networks; Peer to peer; ...</td>\n",
       "      <td>a method for peer to peer streaming of video o...</td>\n",
       "    </tr>\n",
       "    <tr>\n",
       "      <th>1</th>\n",
       "      <td>Multi objective design for bacterial communica...</td>\n",
       "      <td>2013</td>\n",
       "      <td>in this paper we discuss the bacterial network...</td>\n",
       "      <td>NaN</td>\n",
       "      <td>Communication; Data processing; Design; Econom...</td>\n",
       "      <td>in this paper we discus the bacterial network ...</td>\n",
       "    </tr>\n",
       "    <tr>\n",
       "      <th>2</th>\n",
       "      <td>Classical antiquity and semantic content manag...</td>\n",
       "      <td>2013</td>\n",
       "      <td>this article treats a digital humanities work ...</td>\n",
       "      <td>ancient roman law; bibliotheca iuris antiqui; ...</td>\n",
       "      <td>Bibliographic retrieval systems; Semantics; Th...</td>\n",
       "      <td>this article treat a digital humanity work in ...</td>\n",
       "    </tr>\n",
       "    <tr>\n",
       "      <th>3</th>\n",
       "      <td>Nano-scale reservoir computing</td>\n",
       "      <td>2013</td>\n",
       "      <td>this work describes preliminary steps towards ...</td>\n",
       "      <td>NaN</td>\n",
       "      <td>Cadmium compounds; Computer software; Nanotech...</td>\n",
       "      <td>this work describes preliminary step towards n...</td>\n",
       "    </tr>\n",
       "    <tr>\n",
       "      <th>4</th>\n",
       "      <td>Temporal emphasis for goal extraction in task ...</td>\n",
       "      <td>2013</td>\n",
       "      <td>goal extraction in learning by demonstration i...</td>\n",
       "      <td>NaN</td>\n",
       "      <td>Anthropomorphic robots; Extraction; Learning a...</td>\n",
       "      <td>goal extraction in learning by demonstration i...</td>\n",
       "    </tr>\n",
       "  </tbody>\n",
       "</table>\n",
       "</div>"
      ],
      "text/plain": [
       "                                               Title  Year  \\\n",
       "0  Copyright protection in Peer-to-Peer networks ...  2013   \n",
       "1  Multi objective design for bacterial communica...  2013   \n",
       "2  Classical antiquity and semantic content manag...  2013   \n",
       "3                     Nano-scale reservoir computing  2013   \n",
       "4  Temporal emphasis for goal extraction in task ...  2013   \n",
       "\n",
       "                                            Abstract  \\\n",
       "0  a method for peer to peer streaming of video o...   \n",
       "1  in this paper we discuss the bacterial network...   \n",
       "2  this article treats a digital humanities work ...   \n",
       "3  this work describes preliminary steps towards ...   \n",
       "4  goal extraction in learning by demonstration i...   \n",
       "\n",
       "                                     Author Keywords  \\\n",
       "0                                                NaN   \n",
       "1                                                NaN   \n",
       "2  ancient roman law; bibliotheca iuris antiqui; ...   \n",
       "3                                                NaN   \n",
       "4                                                NaN   \n",
       "\n",
       "                                      Index Keywords  \\\n",
       "0  Housing; Peer to peer networks; Peer to peer; ...   \n",
       "1  Communication; Data processing; Design; Econom...   \n",
       "2  Bibliographic retrieval systems; Semantics; Th...   \n",
       "3  Cadmium compounds; Computer software; Nanotech...   \n",
       "4  Anthropomorphic robots; Extraction; Learning a...   \n",
       "\n",
       "                                           Abstract2  \n",
       "0  a method for peer to peer streaming of video o...  \n",
       "1  in this paper we discus the bacterial network ...  \n",
       "2  this article treat a digital humanity work in ...  \n",
       "3  this work describes preliminary step towards n...  \n",
       "4  goal extraction in learning by demonstration i...  "
      ]
     },
     "execution_count": 3,
     "metadata": {},
     "output_type": "execute_result"
    }
   ],
   "source": [
    "df.head()"
   ]
  },
  {
   "cell_type": "code",
   "execution_count": null,
   "id": "7251c115",
   "metadata": {},
   "outputs": [],
   "source": [
    "df.columns"
   ]
  },
  {
   "cell_type": "code",
   "execution_count": null,
   "id": "99ee22fc",
   "metadata": {},
   "outputs": [],
   "source": []
  },
  {
   "cell_type": "code",
   "execution_count": 9,
   "id": "8f1c7cfc",
   "metadata": {},
   "outputs": [],
   "source": [
    "import pandas as pd\n",
    "import numpy as np\n",
    "import os\n",
    "from tqdm import tqdm\n",
    "\n",
    "import warnings\n",
    "warnings.filterwarnings('ignore')\n",
    "\n",
    "# 영어 원형 찾는 라이브러리 실행\n",
    "import nltk\n",
    "from nltk.stem import WordNetLemmatizer\n",
    "\n",
    "from collections import Counter\n",
    "\n",
    "import re"
   ]
  },
  {
   "cell_type": "code",
   "execution_count": 10,
   "id": "5dd55a00",
   "metadata": {
    "scrolled": true
   },
   "outputs": [
    {
     "data": {
      "text/plain": [
       "['2013.6.csv',\n",
       " '2011.4.csv',\n",
       " '2017.2.csv',\n",
       " '2020.9.csv',\n",
       " '2008.5.csv',\n",
       " '2008.4.csv',\n",
       " '2015.1.csv',\n",
       " '2020.8.csv',\n",
       " '2017.3.csv',\n",
       " '2011.5.csv',\n",
       " '2013.7.csv',\n",
       " '2013.5.csv',\n",
       " '2011.7.csv',\n",
       " '2017.1.csv',\n",
       " '2022.8.csv',\n",
       " '2015.3.csv',\n",
       " '2008.6.csv',\n",
       " '2015.2.csv',\n",
       " '2022.9.csv',\n",
       " '2011.6.csv',\n",
       " '2013.4.csv',\n",
       " '2011.2.csv',\n",
       " '2017.4.csv',\n",
       " '.DS_Store',\n",
       " '2015.6.csv',\n",
       " '2008.3.csv',\n",
       " '2008.2.csv',\n",
       " '2015.7.csv',\n",
       " '2017.5.csv',\n",
       " '1953_1988.csv',\n",
       " '2011.3.csv',\n",
       " '1997.csv',\n",
       " '2013.1.csv',\n",
       " '2013.3.csv',\n",
       " '2011.1.csv',\n",
       " '2017.7.csv',\n",
       " '2019.8.csv',\n",
       " '2015.5.csv',\n",
       " '2008.1.csv',\n",
       " '2015.4.csv',\n",
       " '2019.9.csv',\n",
       " '2017.6.csv',\n",
       " '2013.2.csv',\n",
       " '2014.3.csv',\n",
       " '2009.6.csv',\n",
       " '2016.1.csv',\n",
       " '2022.12.csv',\n",
       " '2010.7.csv',\n",
       " '2012.5.csv',\n",
       " '2012.4.csv',\n",
       " '2010.6.csv',\n",
       " '2009.7.csv',\n",
       " '2014.2.csv',\n",
       " '2021.9.csv',\n",
       " '2009.5.csv',\n",
       " '2016.2.csv',\n",
       " '2022.11.csv',\n",
       " '2010.4.csv',\n",
       " '2012.6.csv',\n",
       " '2018.10.csv',\n",
       " '2018.11.csv',\n",
       " '2012.7.csv',\n",
       " '2010.5.csv',\n",
       " '2022.10.csv',\n",
       " '2016.3.csv',\n",
       " '2009.4.csv',\n",
       " '2014.1.csv',\n",
       " '2021.8.csv',\n",
       " '2014.5.csv',\n",
       " '2016.7.csv',\n",
       " '2018.8.csv',\n",
       " '2010.1.csv',\n",
       " '2020.11.csv',\n",
       " '2016.10.csv',\n",
       " '2012.3.csv',\n",
       " '2012.2.csv',\n",
       " '2016.11.csv',\n",
       " '2020.10.csv',\n",
       " '2018.9.csv',\n",
       " '2016.6.csv',\n",
       " '2009.1.csv',\n",
       " '2014.4.csv',\n",
       " '2014.6.csv',\n",
       " '2009.3.csv',\n",
       " '2016.4.csv',\n",
       " '2010.2.csv',\n",
       " '2020.12.csv',\n",
       " '2012.1.csv',\n",
       " '2010.3.csv',\n",
       " '2016.5.csv',\n",
       " '2009.2.csv',\n",
       " '2014.7.csv',\n",
       " '2021.3.csv',\n",
       " '2005.2.csv',\n",
       " '2023.1.csv',\n",
       " '2016.8.csv',\n",
       " '2018.7.csv',\n",
       " '2018.6.csv',\n",
       " '2000.csv',\n",
       " '2016.9.csv',\n",
       " '2005.3.csv',\n",
       " '2021.2.csv',\n",
       " '2007.1.csv',\n",
       " '2007.3.csv',\n",
       " '2023.2.csv',\n",
       " '2005.1.csv',\n",
       " '2018.4.csv',\n",
       " '2018.5.csv',\n",
       " '2007.2.csv',\n",
       " '2021.1.csv',\n",
       " '2014.8.csv',\n",
       " '2021.5.csv',\n",
       " '2005.4.csv',\n",
       " '2018.1.csv',\n",
       " '2003.2.csv',\n",
       " '2010.8.csv',\n",
       " '2001.1.csv',\n",
       " '2009.8.csv',\n",
       " '2021.4.csv',\n",
       " '2007.5.csv',\n",
       " '2021.6.csv',\n",
       " '1993_1994.csv',\n",
       " '2018.2.csv',\n",
       " '2003.1.csv',\n",
       " '2012.9.csv',\n",
       " '2001.2.csv',\n",
       " '2012.8.csv',\n",
       " '2018.3.csv',\n",
       " '2021.7.csv',\n",
       " '2007.4.csv',\n",
       " '1999.csv',\n",
       " '.ipynb_checkpoints',\n",
       " '1989_1992.csv',\n",
       " '2019.11.csv',\n",
       " '2022.2.csv',\n",
       " '2004.1.csv',\n",
       " '2019.4.csv',\n",
       " '2006.3.csv',\n",
       " '2006.2.csv',\n",
       " '2020.1.csv',\n",
       " '2015.8.csv',\n",
       " '2019.5.csv',\n",
       " '2022.3.csv',\n",
       " '1995_1996.csv',\n",
       " '2019.10.csv',\n",
       " '1998.csv',\n",
       " '2019.12.csv',\n",
       " '2004.2.csv',\n",
       " '2022.1.csv',\n",
       " '2017.8.csv',\n",
       " '2019.7.csv',\n",
       " '2020.3.csv',\n",
       " '2020.2.csv',\n",
       " '2006.1.csv',\n",
       " '2019.6.csv',\n",
       " '2017.9.csv',\n",
       " '2002.1.csv',\n",
       " '2022.4.csv',\n",
       " '2019.2.csv',\n",
       " '2020.6.csv',\n",
       " '2020.7.csv',\n",
       " '2006.4.csv',\n",
       " '2019.3.csv',\n",
       " '2022.5.csv',\n",
       " '2021.12.csv',\n",
       " '2013.8.csv',\n",
       " '2021.10.csv',\n",
       " '2002.2.csv',\n",
       " '2011.8.csv',\n",
       " 'Preprocess_Data',\n",
       " '2017.11.csv',\n",
       " '2022.7.csv',\n",
       " '2019.1.csv',\n",
       " '2020.5.csv',\n",
       " '2020.4.csv',\n",
       " '2022.6.csv',\n",
       " '2017.10.csv',\n",
       " '2021.11.csv']"
      ]
     },
     "execution_count": 10,
     "metadata": {},
     "output_type": "execute_result"
    }
   ],
   "source": [
    "# 네비게이션 데이터 경로 설정\n",
    "filepath = '/Users/leeshinhaeng/과기통신부 연구/New 연구/Data'\n",
    "filelist = os.listdir(filepath)\n",
    "filelist"
   ]
  },
  {
   "cell_type": "code",
   "execution_count": 22,
   "id": "0dec96c0",
   "metadata": {},
   "outputs": [],
   "source": [
    "df = pd.read_csv('/Users/leeshinhaeng/과기통신부 연구/New 연구/Data/2013.6.csv')"
   ]
  },
  {
   "cell_type": "code",
   "execution_count": 24,
   "id": "18e8b133",
   "metadata": {},
   "outputs": [],
   "source": [
    "# 제거할 칼럼의 순서를 지정합니다\n",
    "columns_to_remove_indices = [20, 21, 22, 23, 25, 38, 40, 43, 2, 6, 7, 8, 9, 10, 11, 37, 39]\n",
    "\n",
    "# 제거할 칼럼의 이름을 찾습니다\n",
    "columns_to_remove = df.columns[columns_to_remove_indices]"
   ]
  },
  {
   "cell_type": "code",
   "execution_count": 26,
   "id": "52242193",
   "metadata": {},
   "outputs": [],
   "source": [
    "df.drop(columns_to_remove, axis=1, inplace=True)"
   ]
  },
  {
   "cell_type": "code",
   "execution_count": null,
   "id": "cb760b39",
   "metadata": {},
   "outputs": [],
   "source": []
  },
  {
   "cell_type": "code",
   "execution_count": 29,
   "id": "c0789dfb",
   "metadata": {},
   "outputs": [
    {
     "name": "stderr",
     "output_type": "stream",
     "text": [
      " 13%|█████▍                                    | 23/178 [00:23<02:35,  1.00s/it]"
     ]
    },
    {
     "name": "stdout",
     "output_type": "stream",
     "text": [
      ".DS_Store\n"
     ]
    },
    {
     "name": "stderr",
     "output_type": "stream",
     "text": [
      " 74%|███████████████████████████▉          | 131/178 [43:41<1:29:50, 114.69s/it]"
     ]
    },
    {
     "name": "stdout",
     "output_type": "stream",
     "text": [
      ".ipynb_checkpoints\n"
     ]
    },
    {
     "name": "stderr",
     "output_type": "stream",
     "text": [
      " 95%|████████████████████████████████████  | 169/178 [2:10:45<24:15, 161.73s/it]"
     ]
    },
    {
     "name": "stdout",
     "output_type": "stream",
     "text": [
      "Preprocess_Data\n"
     ]
    },
    {
     "name": "stderr",
     "output_type": "stream",
     "text": [
      "100%|███████████████████████████████████████| 178/178 [2:33:13<00:00, 51.65s/it]\n"
     ]
    }
   ],
   "source": [
    "# 데이터 합치기\n",
    "data = pd.DataFrame()\n",
    "# 제거할 칼럼의 순서를 지정합니다\n",
    "columns_to_remove_indices = [20, 21, 22, 23, 25, 38, 40, 43, 2, 6, 7, 8, 9, 10, 11, 37, 39]\n",
    "\n",
    "for i in tqdm(range(len(filelist))):\n",
    "    try:\n",
    "        df = pd.read_csv('./Data/{}'.format(filelist[i]))\n",
    "        # 제거할 칼럼 이름 찾기\n",
    "        columns_to_remove = df.columns[columns_to_remove_indices]\n",
    "        df.drop(columns_to_remove, axis=1, inplace=True)\n",
    "        data = pd.concat([data, df])\n",
    "    except:\n",
    "        print(filelist[i])\n",
    "        pass"
   ]
  },
  {
   "cell_type": "code",
   "execution_count": 33,
   "id": "146fbdd8",
   "metadata": {},
   "outputs": [
    {
     "name": "stderr",
     "output_type": "stream",
     "text": [
      "  1%|▏                                          | 1/178 [00:04<14:19,  4.86s/it]"
     ]
    },
    {
     "name": "stdout",
     "output_type": "stream",
     "text": [
      "2013.6.csv 데이터의 전체 개수 : 19394\n"
     ]
    },
    {
     "name": "stderr",
     "output_type": "stream",
     "text": [
      "\r",
      "  1%|▍                                          | 2/178 [00:07<10:14,  3.49s/it]"
     ]
    },
    {
     "name": "stdout",
     "output_type": "stream",
     "text": [
      "2011.4.csv 데이터의 전체 개수 : 19263\n"
     ]
    },
    {
     "name": "stderr",
     "output_type": "stream",
     "text": [
      "\r",
      "  2%|▋                                          | 3/178 [00:09<07:48,  2.68s/it]"
     ]
    },
    {
     "name": "stdout",
     "output_type": "stream",
     "text": [
      "2017.2.csv 데이터의 전체 개수 : 20000\n"
     ]
    },
    {
     "name": "stderr",
     "output_type": "stream",
     "text": [
      "\r",
      "  2%|▉                                          | 4/178 [00:10<06:30,  2.24s/it]"
     ]
    },
    {
     "name": "stdout",
     "output_type": "stream",
     "text": [
      "2020.9.csv 데이터의 전체 개수 : 18895\n"
     ]
    },
    {
     "name": "stderr",
     "output_type": "stream",
     "text": [
      "\r",
      "  3%|█▏                                         | 5/178 [00:11<05:14,  1.82s/it]"
     ]
    },
    {
     "name": "stdout",
     "output_type": "stream",
     "text": [
      "2008.5.csv 데이터의 전체 개수 : 19867\n"
     ]
    },
    {
     "name": "stderr",
     "output_type": "stream",
     "text": [
      "\r",
      "  3%|█▍                                         | 6/178 [00:12<04:25,  1.54s/it]"
     ]
    },
    {
     "name": "stdout",
     "output_type": "stream",
     "text": [
      "2008.4.csv 데이터의 전체 개수 : 19078\n"
     ]
    },
    {
     "name": "stderr",
     "output_type": "stream",
     "text": [
      "\r",
      "  4%|█▋                                         | 7/178 [00:13<03:57,  1.39s/it]"
     ]
    },
    {
     "name": "stdout",
     "output_type": "stream",
     "text": [
      "2015.1.csv 데이터의 전체 개수 : 18157\n"
     ]
    },
    {
     "name": "stderr",
     "output_type": "stream",
     "text": [
      "\r",
      "  4%|█▉                                         | 8/178 [00:15<03:59,  1.41s/it]"
     ]
    },
    {
     "name": "stdout",
     "output_type": "stream",
     "text": [
      "2020.8.csv 데이터의 전체 개수 : 18478\n"
     ]
    },
    {
     "name": "stderr",
     "output_type": "stream",
     "text": [
      "\r",
      "  5%|██▏                                        | 9/178 [00:16<03:46,  1.34s/it]"
     ]
    },
    {
     "name": "stdout",
     "output_type": "stream",
     "text": [
      "2017.3.csv 데이터의 전체 개수 : 15795\n"
     ]
    },
    {
     "name": "stderr",
     "output_type": "stream",
     "text": [
      "\r",
      "  6%|██▎                                       | 10/178 [00:17<03:28,  1.24s/it]"
     ]
    },
    {
     "name": "stdout",
     "output_type": "stream",
     "text": [
      "2011.5.csv 데이터의 전체 개수 : 18310\n"
     ]
    },
    {
     "name": "stderr",
     "output_type": "stream",
     "text": [
      "\r",
      "  6%|██▌                                       | 11/178 [00:18<03:23,  1.22s/it]"
     ]
    },
    {
     "name": "stdout",
     "output_type": "stream",
     "text": [
      "2013.7.csv 데이터의 전체 개수 : 19854\n"
     ]
    },
    {
     "name": "stderr",
     "output_type": "stream",
     "text": [
      "\r",
      "  7%|██▊                                       | 12/178 [00:19<03:08,  1.14s/it]"
     ]
    },
    {
     "name": "stdout",
     "output_type": "stream",
     "text": [
      "2013.5.csv 데이터의 전체 개수 : 17854\n"
     ]
    },
    {
     "name": "stderr",
     "output_type": "stream",
     "text": [
      "\r",
      "  7%|███                                       | 13/178 [00:20<03:07,  1.14s/it]"
     ]
    },
    {
     "name": "stdout",
     "output_type": "stream",
     "text": [
      "2011.7.csv 데이터의 전체 개수 : 19819\n"
     ]
    },
    {
     "name": "stderr",
     "output_type": "stream",
     "text": [
      "\r",
      "  8%|███▎                                      | 14/178 [00:21<02:43,  1.01it/s]"
     ]
    },
    {
     "name": "stdout",
     "output_type": "stream",
     "text": [
      "2017.1.csv 데이터의 전체 개수 : 12213\n"
     ]
    },
    {
     "name": "stderr",
     "output_type": "stream",
     "text": [
      "  9%|███▊                                      | 16/178 [00:23<02:16,  1.19it/s]"
     ]
    },
    {
     "name": "stdout",
     "output_type": "stream",
     "text": [
      "2022.8.csv 데이터의 전체 개수 : 19375\n",
      "2015.3.csv 데이터의 전체 개수 : 2776\n"
     ]
    },
    {
     "name": "stderr",
     "output_type": "stream",
     "text": [
      "\r",
      " 10%|████                                      | 17/178 [00:23<02:02,  1.31it/s]"
     ]
    },
    {
     "name": "stdout",
     "output_type": "stream",
     "text": [
      "2008.6.csv 데이터의 전체 개수 : 11767\n"
     ]
    },
    {
     "name": "stderr",
     "output_type": "stream",
     "text": [
      "\r",
      " 10%|████▏                                     | 18/178 [00:25<02:35,  1.03it/s]"
     ]
    },
    {
     "name": "stdout",
     "output_type": "stream",
     "text": [
      "2015.2.csv 데이터의 전체 개수 : 20000\n"
     ]
    },
    {
     "name": "stderr",
     "output_type": "stream",
     "text": [
      "\r",
      " 11%|████▍                                     | 19/178 [00:26<03:10,  1.20s/it]"
     ]
    },
    {
     "name": "stdout",
     "output_type": "stream",
     "text": [
      "2022.9.csv 데이터의 전체 개수 : 19961\n"
     ]
    },
    {
     "name": "stderr",
     "output_type": "stream",
     "text": [
      "\r",
      " 11%|████▋                                     | 20/178 [00:27<03:06,  1.18s/it]"
     ]
    },
    {
     "name": "stdout",
     "output_type": "stream",
     "text": [
      "2011.6.csv 데이터의 전체 개수 : 19530\n"
     ]
    },
    {
     "name": "stderr",
     "output_type": "stream",
     "text": [
      " 12%|█████▏                                    | 22/178 [00:29<02:08,  1.21it/s]"
     ]
    },
    {
     "name": "stdout",
     "output_type": "stream",
     "text": [
      "2013.4.csv 데이터의 전체 개수 : 14744\n",
      "2011.2.csv 데이터의 전체 개수 : 3488\n"
     ]
    },
    {
     "name": "stderr",
     "output_type": "stream",
     "text": [
      "\r",
      " 13%|█████▍                                    | 23/178 [00:30<02:33,  1.01it/s]"
     ]
    },
    {
     "name": "stdout",
     "output_type": "stream",
     "text": [
      "2017.4.csv 데이터의 전체 개수 : 20000\n",
      ".DS_Store\n"
     ]
    },
    {
     "name": "stderr",
     "output_type": "stream",
     "text": [
      "\r",
      " 14%|█████▉                                    | 25/178 [00:31<02:01,  1.26it/s]"
     ]
    },
    {
     "name": "stdout",
     "output_type": "stream",
     "text": [
      "2015.6.csv 데이터의 전체 개수 : 19128\n"
     ]
    },
    {
     "name": "stderr",
     "output_type": "stream",
     "text": [
      "\r",
      " 15%|██████▏                                   | 26/178 [00:32<02:04,  1.22it/s]"
     ]
    },
    {
     "name": "stdout",
     "output_type": "stream",
     "text": [
      "2008.3.csv 데이터의 전체 개수 : 16502\n"
     ]
    },
    {
     "name": "stderr",
     "output_type": "stream",
     "text": [
      "\r",
      " 15%|██████▎                                   | 27/178 [00:33<02:05,  1.20it/s]"
     ]
    },
    {
     "name": "stdout",
     "output_type": "stream",
     "text": [
      "2008.2.csv 데이터의 전체 개수 : 18445\n"
     ]
    },
    {
     "name": "stderr",
     "output_type": "stream",
     "text": [
      "\r",
      " 16%|██████▌                                   | 28/178 [00:34<02:21,  1.06it/s]"
     ]
    },
    {
     "name": "stdout",
     "output_type": "stream",
     "text": [
      "2015.7.csv 데이터의 전체 개수 : 19682\n"
     ]
    },
    {
     "name": "stderr",
     "output_type": "stream",
     "text": [
      "\r",
      " 16%|██████▊                                   | 29/178 [00:34<01:54,  1.30it/s]"
     ]
    },
    {
     "name": "stdout",
     "output_type": "stream",
     "text": [
      "2017.5.csv 데이터의 전체 개수 : 4218\n"
     ]
    },
    {
     "name": "stderr",
     "output_type": "stream",
     "text": [
      "\r",
      " 17%|███████                                   | 30/178 [00:35<01:49,  1.35it/s]"
     ]
    },
    {
     "name": "stdout",
     "output_type": "stream",
     "text": [
      "1953_1988.csv 데이터의 전체 개수 : 19344\n"
     ]
    },
    {
     "name": "stderr",
     "output_type": "stream",
     "text": [
      "\r",
      " 17%|███████▎                                  | 31/178 [00:36<02:08,  1.14it/s]"
     ]
    },
    {
     "name": "stdout",
     "output_type": "stream",
     "text": [
      "2011.3.csv 데이터의 전체 개수 : 20000\n"
     ]
    },
    {
     "name": "stderr",
     "output_type": "stream",
     "text": [
      "\r",
      " 18%|███████▌                                  | 32/178 [00:37<01:49,  1.33it/s]"
     ]
    },
    {
     "name": "stdout",
     "output_type": "stream",
     "text": [
      "1997.csv 데이터의 전체 개수 : 9838\n"
     ]
    },
    {
     "name": "stderr",
     "output_type": "stream",
     "text": [
      "\r",
      " 19%|███████▊                                  | 33/178 [00:38<02:06,  1.14it/s]"
     ]
    },
    {
     "name": "stdout",
     "output_type": "stream",
     "text": [
      "2013.1.csv 데이터의 전체 개수 : 20000\n"
     ]
    },
    {
     "name": "stderr",
     "output_type": "stream",
     "text": [
      "\r",
      " 19%|████████                                  | 34/178 [00:39<02:10,  1.10it/s]"
     ]
    },
    {
     "name": "stdout",
     "output_type": "stream",
     "text": [
      "2013.3.csv 데이터의 전체 개수 : 18334\n"
     ]
    },
    {
     "name": "stderr",
     "output_type": "stream",
     "text": [
      "\r",
      " 20%|████████▎                                 | 35/178 [00:40<02:11,  1.08it/s]"
     ]
    },
    {
     "name": "stdout",
     "output_type": "stream",
     "text": [
      "2011.1.csv 데이터의 전체 개수 : 20000\n"
     ]
    },
    {
     "name": "stderr",
     "output_type": "stream",
     "text": [
      "\r",
      " 20%|████████▍                                 | 36/178 [00:41<02:16,  1.04it/s]"
     ]
    },
    {
     "name": "stdout",
     "output_type": "stream",
     "text": [
      "2017.7.csv 데이터의 전체 개수 : 16447\n"
     ]
    },
    {
     "name": "stderr",
     "output_type": "stream",
     "text": [
      "\r",
      " 21%|████████▋                                 | 37/178 [00:42<02:25,  1.03s/it]"
     ]
    },
    {
     "name": "stdout",
     "output_type": "stream",
     "text": [
      "2019.8.csv 데이터의 전체 개수 : 17516\n"
     ]
    },
    {
     "name": "stderr",
     "output_type": "stream",
     "text": [
      "\r",
      " 21%|████████▉                                 | 38/178 [00:43<02:25,  1.04s/it]"
     ]
    },
    {
     "name": "stdout",
     "output_type": "stream",
     "text": [
      "2015.5.csv 데이터의 전체 개수 : 18249\n"
     ]
    },
    {
     "name": "stderr",
     "output_type": "stream",
     "text": [
      "\r",
      " 22%|█████████▏                                | 39/178 [00:44<02:21,  1.02s/it]"
     ]
    },
    {
     "name": "stdout",
     "output_type": "stream",
     "text": [
      "2008.1.csv 데이터의 전체 개수 : 18669\n"
     ]
    },
    {
     "name": "stderr",
     "output_type": "stream",
     "text": [
      "\r",
      " 22%|█████████▍                                | 40/178 [00:45<02:23,  1.04s/it]"
     ]
    },
    {
     "name": "stdout",
     "output_type": "stream",
     "text": [
      "2015.4.csv 데이터의 전체 개수 : 18788\n"
     ]
    },
    {
     "name": "stderr",
     "output_type": "stream",
     "text": [
      "\r",
      " 23%|█████████▋                                | 41/178 [00:46<02:31,  1.11s/it]"
     ]
    },
    {
     "name": "stdout",
     "output_type": "stream",
     "text": [
      "2019.9.csv 데이터의 전체 개수 : 18948\n"
     ]
    },
    {
     "name": "stderr",
     "output_type": "stream",
     "text": [
      "\r",
      " 24%|█████████▉                                | 42/178 [00:47<02:00,  1.13it/s]"
     ]
    },
    {
     "name": "stdout",
     "output_type": "stream",
     "text": [
      "2017.6.csv 데이터의 전체 개수 : 5639\n",
      "2013.2.csv 데이터의 전체 개수 : 905\n",
      "2014.3.csv 데이터의 전체 개수 : 499\n"
     ]
    },
    {
     "name": "stderr",
     "output_type": "stream",
     "text": [
      "\r",
      " 25%|██████████▌                               | 45/178 [00:48<01:17,  1.71it/s]"
     ]
    },
    {
     "name": "stdout",
     "output_type": "stream",
     "text": [
      "2009.6.csv 데이터의 전체 개수 : 19225\n"
     ]
    },
    {
     "name": "stderr",
     "output_type": "stream",
     "text": [
      "\r",
      " 26%|██████████▊                               | 46/178 [00:49<01:38,  1.34it/s]"
     ]
    },
    {
     "name": "stdout",
     "output_type": "stream",
     "text": [
      "2016.1.csv 데이터의 전체 개수 : 20000\n"
     ]
    },
    {
     "name": "stderr",
     "output_type": "stream",
     "text": [
      " 27%|███████████▎                              | 48/178 [00:51<01:35,  1.37it/s]"
     ]
    },
    {
     "name": "stdout",
     "output_type": "stream",
     "text": [
      "2022.12.csv 데이터의 전체 개수 : 19586\n",
      "2010.7.csv 데이터의 전체 개수 : 2952\n"
     ]
    },
    {
     "name": "stderr",
     "output_type": "stream",
     "text": [
      "\r",
      " 28%|███████████▌                              | 49/178 [00:52<01:36,  1.34it/s]"
     ]
    },
    {
     "name": "stdout",
     "output_type": "stream",
     "text": [
      "2012.5.csv 데이터의 전체 개수 : 14413\n",
      "2012.4.csv 데이터의 전체 개수 : 345\n"
     ]
    },
    {
     "name": "stderr",
     "output_type": "stream",
     "text": [
      "\r",
      " 29%|████████████                              | 51/178 [00:53<01:24,  1.50it/s]"
     ]
    },
    {
     "name": "stdout",
     "output_type": "stream",
     "text": [
      "2010.6.csv 데이터의 전체 개수 : 19716\n"
     ]
    },
    {
     "name": "stderr",
     "output_type": "stream",
     "text": [
      "\r",
      " 29%|████████████▎                             | 52/178 [00:54<01:32,  1.36it/s]"
     ]
    },
    {
     "name": "stdout",
     "output_type": "stream",
     "text": [
      "2009.7.csv 데이터의 전체 개수 : 18161\n"
     ]
    },
    {
     "name": "stderr",
     "output_type": "stream",
     "text": [
      "\r",
      " 30%|████████████▌                             | 53/178 [00:55<01:47,  1.17it/s]"
     ]
    },
    {
     "name": "stdout",
     "output_type": "stream",
     "text": [
      "2014.2.csv 데이터의 전체 개수 : 20000\n"
     ]
    },
    {
     "name": "stderr",
     "output_type": "stream",
     "text": [
      "\r",
      " 30%|████████████▋                             | 54/178 [00:56<01:38,  1.26it/s]"
     ]
    },
    {
     "name": "stdout",
     "output_type": "stream",
     "text": [
      "2021.9.csv 데이터의 전체 개수 : 9564\n"
     ]
    },
    {
     "name": "stderr",
     "output_type": "stream",
     "text": [
      "\r",
      " 31%|████████████▉                             | 55/178 [00:56<01:42,  1.20it/s]"
     ]
    },
    {
     "name": "stdout",
     "output_type": "stream",
     "text": [
      "2009.5.csv 데이터의 전체 개수 : 18482\n"
     ]
    },
    {
     "name": "stderr",
     "output_type": "stream",
     "text": [
      "\r",
      " 31%|█████████████▏                            | 56/178 [00:57<01:22,  1.48it/s]"
     ]
    },
    {
     "name": "stdout",
     "output_type": "stream",
     "text": [
      "2016.2.csv 데이터의 전체 개수 : 3744\n"
     ]
    },
    {
     "name": "stderr",
     "output_type": "stream",
     "text": [
      "\r",
      " 32%|█████████████▍                            | 57/178 [00:57<01:20,  1.50it/s]"
     ]
    },
    {
     "name": "stdout",
     "output_type": "stream",
     "text": [
      "2022.11.csv 데이터의 전체 개수 : 9256\n"
     ]
    },
    {
     "name": "stderr",
     "output_type": "stream",
     "text": [
      "\r",
      " 33%|█████████████▋                            | 58/178 [00:58<01:32,  1.30it/s]"
     ]
    },
    {
     "name": "stdout",
     "output_type": "stream",
     "text": [
      "2010.4.csv 데이터의 전체 개수 : 19537\n"
     ]
    },
    {
     "name": "stderr",
     "output_type": "stream",
     "text": [
      "\r",
      " 33%|█████████████▉                            | 59/178 [00:59<01:36,  1.23it/s]"
     ]
    },
    {
     "name": "stdout",
     "output_type": "stream",
     "text": [
      "2012.6.csv 데이터의 전체 개수 : 16787\n"
     ]
    },
    {
     "name": "stderr",
     "output_type": "stream",
     "text": [
      "\r",
      " 34%|██████████████▏                           | 60/178 [01:01<01:53,  1.04it/s]"
     ]
    },
    {
     "name": "stdout",
     "output_type": "stream",
     "text": [
      "2018.10.csv 데이터의 전체 개수 : 19264\n"
     ]
    },
    {
     "name": "stderr",
     "output_type": "stream",
     "text": [
      "\r",
      " 34%|██████████████▍                           | 61/178 [01:02<01:55,  1.01it/s]"
     ]
    },
    {
     "name": "stdout",
     "output_type": "stream",
     "text": [
      "2018.11.csv 데이터의 전체 개수 : 15979\n"
     ]
    },
    {
     "name": "stderr",
     "output_type": "stream",
     "text": [
      "\r",
      " 35%|██████████████▋                           | 62/178 [01:03<01:58,  1.02s/it]"
     ]
    },
    {
     "name": "stdout",
     "output_type": "stream",
     "text": [
      "2012.7.csv 데이터의 전체 개수 : 19531\n"
     ]
    },
    {
     "name": "stderr",
     "output_type": "stream",
     "text": [
      "\r",
      " 35%|██████████████▊                           | 63/178 [01:04<01:58,  1.03s/it]"
     ]
    },
    {
     "name": "stdout",
     "output_type": "stream",
     "text": [
      "2010.5.csv 데이터의 전체 개수 : 19808\n"
     ]
    },
    {
     "name": "stderr",
     "output_type": "stream",
     "text": [
      "\r",
      " 36%|███████████████                           | 64/178 [01:05<02:14,  1.18s/it]"
     ]
    },
    {
     "name": "stdout",
     "output_type": "stream",
     "text": [
      "2022.10.csv 데이터의 전체 개수 : 18702\n"
     ]
    },
    {
     "name": "stderr",
     "output_type": "stream",
     "text": [
      "\r",
      " 37%|███████████████▎                          | 65/178 [01:07<02:13,  1.18s/it]"
     ]
    },
    {
     "name": "stdout",
     "output_type": "stream",
     "text": [
      "2016.3.csv 데이터의 전체 개수 : 20000\n"
     ]
    },
    {
     "name": "stderr",
     "output_type": "stream",
     "text": [
      "\r",
      " 37%|███████████████▌                          | 66/178 [01:07<01:59,  1.07s/it]"
     ]
    },
    {
     "name": "stdout",
     "output_type": "stream",
     "text": [
      "2009.4.csv\n"
     ]
    },
    {
     "name": "stderr",
     "output_type": "stream",
     "text": [
      "\r",
      " 38%|███████████████▊                          | 67/178 [01:08<01:55,  1.04s/it]"
     ]
    },
    {
     "name": "stdout",
     "output_type": "stream",
     "text": [
      "2014.1.csv 데이터의 전체 개수 : 17056\n"
     ]
    },
    {
     "name": "stderr",
     "output_type": "stream",
     "text": [
      "\r",
      " 38%|████████████████                          | 68/178 [01:10<02:08,  1.17s/it]"
     ]
    },
    {
     "name": "stdout",
     "output_type": "stream",
     "text": [
      "2021.8.csv 데이터의 전체 개수 : 18823\n"
     ]
    },
    {
     "name": "stderr",
     "output_type": "stream",
     "text": [
      "\r",
      " 39%|████████████████▎                         | 69/178 [01:11<02:01,  1.11s/it]"
     ]
    },
    {
     "name": "stdout",
     "output_type": "stream",
     "text": [
      "2014.5.csv 데이터의 전체 개수 : 17192\n"
     ]
    },
    {
     "name": "stderr",
     "output_type": "stream",
     "text": [
      "\r",
      " 39%|████████████████▌                         | 70/178 [01:12<01:56,  1.08s/it]"
     ]
    },
    {
     "name": "stdout",
     "output_type": "stream",
     "text": [
      "2016.7.csv 데이터의 전체 개수 : 16635\n"
     ]
    },
    {
     "name": "stderr",
     "output_type": "stream",
     "text": [
      "\r",
      " 40%|████████████████▊                         | 71/178 [01:13<02:02,  1.15s/it]"
     ]
    },
    {
     "name": "stdout",
     "output_type": "stream",
     "text": [
      "2018.8.csv 데이터의 전체 개수 : 19790\n"
     ]
    },
    {
     "name": "stderr",
     "output_type": "stream",
     "text": [
      "\r",
      " 40%|████████████████▉                         | 72/178 [01:14<01:47,  1.01s/it]"
     ]
    },
    {
     "name": "stdout",
     "output_type": "stream",
     "text": [
      "2010.1.csv 데이터의 전체 개수 : 14563\n"
     ]
    },
    {
     "name": "stderr",
     "output_type": "stream",
     "text": [
      "\r",
      " 41%|█████████████████▏                        | 73/178 [01:15<01:57,  1.12s/it]"
     ]
    },
    {
     "name": "stdout",
     "output_type": "stream",
     "text": [
      "2020.11.csv 데이터의 전체 개수 : 19292\n"
     ]
    },
    {
     "name": "stderr",
     "output_type": "stream",
     "text": [
      "\r",
      " 42%|█████████████████▍                        | 74/178 [01:16<01:36,  1.08it/s]"
     ]
    },
    {
     "name": "stdout",
     "output_type": "stream",
     "text": [
      "2016.10.csv 데이터의 전체 개수 : 7141\n"
     ]
    },
    {
     "name": "stderr",
     "output_type": "stream",
     "text": [
      "\r",
      " 42%|█████████████████▋                        | 75/178 [01:17<01:41,  1.01it/s]"
     ]
    },
    {
     "name": "stdout",
     "output_type": "stream",
     "text": [
      "2012.3.csv 데이터의 전체 개수 : 20000\n",
      "2012.2.csv 데이터의 전체 개수 : 1334\n"
     ]
    },
    {
     "name": "stderr",
     "output_type": "stream",
     "text": [
      " 44%|██████████████████▍                       | 78/178 [01:18<01:05,  1.53it/s]"
     ]
    },
    {
     "name": "stdout",
     "output_type": "stream",
     "text": [
      "2016.11.csv 데이터의 전체 개수 : 19753\n",
      "2020.10.csv 데이터의 전체 개수 : 1488\n"
     ]
    },
    {
     "name": "stderr",
     "output_type": "stream",
     "text": [
      "\r",
      " 44%|██████████████████▋                       | 79/178 [01:18<00:53,  1.85it/s]"
     ]
    },
    {
     "name": "stdout",
     "output_type": "stream",
     "text": [
      "2018.9.csv\n"
     ]
    },
    {
     "name": "stderr",
     "output_type": "stream",
     "text": [
      "\r",
      " 45%|██████████████████▉                       | 80/178 [01:19<01:06,  1.48it/s]"
     ]
    },
    {
     "name": "stdout",
     "output_type": "stream",
     "text": [
      "2016.6.csv 데이터의 전체 개수 : 15735\n"
     ]
    },
    {
     "name": "stderr",
     "output_type": "stream",
     "text": [
      "\r",
      " 46%|███████████████████                       | 81/178 [01:21<01:17,  1.25it/s]"
     ]
    },
    {
     "name": "stdout",
     "output_type": "stream",
     "text": [
      "2009.1.csv 데이터의 전체 개수 : 19939\n"
     ]
    },
    {
     "name": "stderr",
     "output_type": "stream",
     "text": [
      "\r",
      " 46%|███████████████████▎                      | 82/178 [01:21<01:20,  1.19it/s]"
     ]
    },
    {
     "name": "stdout",
     "output_type": "stream",
     "text": [
      "2014.4.csv 데이터의 전체 개수 : 16076\n"
     ]
    },
    {
     "name": "stderr",
     "output_type": "stream",
     "text": [
      "\r",
      " 47%|███████████████████▌                      | 83/178 [01:23<01:26,  1.10it/s]"
     ]
    },
    {
     "name": "stdout",
     "output_type": "stream",
     "text": [
      "2014.6.csv 데이터의 전체 개수 : 18492\n"
     ]
    },
    {
     "name": "stderr",
     "output_type": "stream",
     "text": [
      "\r",
      " 47%|███████████████████▊                      | 84/178 [01:23<01:19,  1.19it/s]"
     ]
    },
    {
     "name": "stdout",
     "output_type": "stream",
     "text": [
      "2009.3.csv 데이터의 전체 개수 : 14836\n"
     ]
    },
    {
     "name": "stderr",
     "output_type": "stream",
     "text": [
      "\r",
      " 48%|████████████████████                      | 85/178 [01:23<01:01,  1.50it/s]"
     ]
    },
    {
     "name": "stdout",
     "output_type": "stream",
     "text": [
      "2016.4.csv 데이터의 전체 개수 : 3515\n"
     ]
    },
    {
     "name": "stderr",
     "output_type": "stream",
     "text": [
      "\r",
      " 48%|████████████████████▎                     | 86/178 [01:24<01:01,  1.50it/s]"
     ]
    },
    {
     "name": "stdout",
     "output_type": "stream",
     "text": [
      "2010.2.csv 데이터의 전체 개수 : 14564\n"
     ]
    },
    {
     "name": "stderr",
     "output_type": "stream",
     "text": [
      "\r",
      " 49%|████████████████████▌                     | 87/178 [01:26<01:19,  1.14it/s]"
     ]
    },
    {
     "name": "stdout",
     "output_type": "stream",
     "text": [
      "2020.12.csv 데이터의 전체 개수 : 19869\n"
     ]
    },
    {
     "name": "stderr",
     "output_type": "stream",
     "text": [
      "\r",
      " 49%|████████████████████▊                     | 88/178 [01:26<01:21,  1.11it/s]"
     ]
    },
    {
     "name": "stdout",
     "output_type": "stream",
     "text": [
      "2012.1.csv 데이터의 전체 개수 : 20000\n"
     ]
    },
    {
     "name": "stderr",
     "output_type": "stream",
     "text": [
      "\r",
      " 50%|█████████████████████                     | 89/178 [01:28<01:26,  1.03it/s]"
     ]
    },
    {
     "name": "stdout",
     "output_type": "stream",
     "text": [
      "2010.3.csv 데이터의 전체 개수 : 19793\n"
     ]
    },
    {
     "name": "stderr",
     "output_type": "stream",
     "text": [
      "\r",
      " 51%|█████████████████████▏                    | 90/178 [01:28<01:19,  1.10it/s]"
     ]
    },
    {
     "name": "stdout",
     "output_type": "stream",
     "text": [
      "2016.5.csv 데이터의 전체 개수 : 12924\n"
     ]
    },
    {
     "name": "stderr",
     "output_type": "stream",
     "text": [
      "\r",
      " 51%|█████████████████████▍                    | 91/178 [01:29<01:04,  1.34it/s]"
     ]
    },
    {
     "name": "stdout",
     "output_type": "stream",
     "text": [
      "2009.2.csv 데이터의 전체 개수 : 8000\n"
     ]
    },
    {
     "name": "stderr",
     "output_type": "stream",
     "text": [
      "\r",
      " 52%|█████████████████████▋                    | 92/178 [01:30<01:13,  1.17it/s]"
     ]
    },
    {
     "name": "stdout",
     "output_type": "stream",
     "text": [
      "2014.7.csv 데이터의 전체 개수 : 19114\n"
     ]
    },
    {
     "name": "stderr",
     "output_type": "stream",
     "text": [
      "\r",
      " 52%|█████████████████████▉                    | 93/178 [01:32<01:34,  1.11s/it]"
     ]
    },
    {
     "name": "stdout",
     "output_type": "stream",
     "text": [
      "2021.3.csv 데이터의 전체 개수 : 20000\n"
     ]
    },
    {
     "name": "stderr",
     "output_type": "stream",
     "text": [
      "\r",
      " 53%|██████████████████████▏                   | 94/178 [01:32<01:23,  1.00it/s]"
     ]
    },
    {
     "name": "stdout",
     "output_type": "stream",
     "text": [
      "2005.2.csv 데이터의 전체 개수 : 15948\n"
     ]
    },
    {
     "name": "stderr",
     "output_type": "stream",
     "text": [
      "\r",
      " 53%|██████████████████████▍                   | 95/178 [01:33<01:25,  1.03s/it]"
     ]
    },
    {
     "name": "stdout",
     "output_type": "stream",
     "text": [
      "2023.1.csv 데이터의 전체 개수 : 16186\n"
     ]
    },
    {
     "name": "stderr",
     "output_type": "stream",
     "text": [
      "\r",
      " 54%|██████████████████████▋                   | 96/178 [01:35<01:26,  1.06s/it]"
     ]
    },
    {
     "name": "stdout",
     "output_type": "stream",
     "text": [
      "2016.8.csv 데이터의 전체 개수 : 17788\n"
     ]
    },
    {
     "name": "stderr",
     "output_type": "stream",
     "text": [
      "\r",
      " 54%|██████████████████████▉                   | 97/178 [01:36<01:26,  1.06s/it]"
     ]
    },
    {
     "name": "stdout",
     "output_type": "stream",
     "text": [
      "2018.7.csv 데이터의 전체 개수 : 16761\n"
     ]
    },
    {
     "name": "stderr",
     "output_type": "stream",
     "text": [
      "\r",
      " 55%|███████████████████████                   | 98/178 [01:36<01:18,  1.02it/s]"
     ]
    },
    {
     "name": "stdout",
     "output_type": "stream",
     "text": [
      "2018.6.csv 데이터의 전체 개수 : 12559\n"
     ]
    },
    {
     "name": "stderr",
     "output_type": "stream",
     "text": [
      "\r",
      " 56%|███████████████████████▎                  | 99/178 [01:37<01:13,  1.07it/s]"
     ]
    },
    {
     "name": "stdout",
     "output_type": "stream",
     "text": [
      "2000.csv 데이터의 전체 개수 : 14870\n"
     ]
    },
    {
     "name": "stderr",
     "output_type": "stream",
     "text": [
      "\r",
      " 56%|███████████████████████                  | 100/178 [01:38<01:19,  1.02s/it]"
     ]
    },
    {
     "name": "stdout",
     "output_type": "stream",
     "text": [
      "2016.9.csv 데이터의 전체 개수 : 19435\n"
     ]
    },
    {
     "name": "stderr",
     "output_type": "stream",
     "text": [
      "\r",
      " 57%|███████████████████████▎                 | 101/178 [01:39<01:17,  1.01s/it]"
     ]
    },
    {
     "name": "stdout",
     "output_type": "stream",
     "text": [
      "2005.3.csv 데이터의 전체 개수 : 19028\n"
     ]
    },
    {
     "name": "stderr",
     "output_type": "stream",
     "text": [
      "\r",
      " 57%|███████████████████████▍                 | 102/178 [01:41<01:23,  1.09s/it]"
     ]
    },
    {
     "name": "stdout",
     "output_type": "stream",
     "text": [
      "2021.2.csv 데이터의 전체 개수 : 15966\n"
     ]
    },
    {
     "name": "stderr",
     "output_type": "stream",
     "text": [
      "\r",
      " 58%|███████████████████████▋                 | 103/178 [01:42<01:19,  1.06s/it]"
     ]
    },
    {
     "name": "stdout",
     "output_type": "stream",
     "text": [
      "2007.1.csv 데이터의 전체 개수 : 19615\n"
     ]
    },
    {
     "name": "stderr",
     "output_type": "stream",
     "text": [
      "\r",
      " 58%|███████████████████████▉                 | 104/178 [01:43<01:16,  1.03s/it]"
     ]
    },
    {
     "name": "stdout",
     "output_type": "stream",
     "text": [
      "2007.3.csv 데이터의 전체 개수 : 19359\n"
     ]
    },
    {
     "name": "stderr",
     "output_type": "stream",
     "text": [
      "\r",
      " 59%|████████████████████████▏                | 105/178 [01:44<01:28,  1.22s/it]"
     ]
    },
    {
     "name": "stdout",
     "output_type": "stream",
     "text": [
      "2023.2.csv 데이터의 전체 개수 : 20000\n"
     ]
    },
    {
     "name": "stderr",
     "output_type": "stream",
     "text": [
      "\r",
      " 60%|████████████████████████▍                | 106/178 [01:45<01:21,  1.14s/it]"
     ]
    },
    {
     "name": "stdout",
     "output_type": "stream",
     "text": [
      "2005.1.csv 데이터의 전체 개수 : 17153\n"
     ]
    },
    {
     "name": "stderr",
     "output_type": "stream",
     "text": [
      "\r",
      " 60%|████████████████████████▋                | 107/178 [01:46<01:21,  1.14s/it]"
     ]
    },
    {
     "name": "stdout",
     "output_type": "stream",
     "text": [
      "2018.4.csv 데이터의 전체 개수 : 16428\n"
     ]
    },
    {
     "name": "stderr",
     "output_type": "stream",
     "text": [
      "\r",
      " 61%|████████████████████████▉                | 108/178 [01:47<01:06,  1.05it/s]"
     ]
    },
    {
     "name": "stdout",
     "output_type": "stream",
     "text": [
      "2018.5.csv 데이터의 전체 개수 : 6446\n"
     ]
    },
    {
     "name": "stderr",
     "output_type": "stream",
     "text": [
      "\r",
      " 61%|█████████████████████████                | 109/178 [01:48<01:03,  1.09it/s]"
     ]
    },
    {
     "name": "stdout",
     "output_type": "stream",
     "text": [
      "2007.2.csv 데이터의 전체 개수 : 17498\n"
     ]
    },
    {
     "name": "stderr",
     "output_type": "stream",
     "text": [
      "\r",
      " 62%|█████████████████████████▎               | 110/178 [01:49<01:08,  1.01s/it]"
     ]
    },
    {
     "name": "stdout",
     "output_type": "stream",
     "text": [
      "2021.1.csv 데이터의 전체 개수 : 18628\n"
     ]
    },
    {
     "name": "stderr",
     "output_type": "stream",
     "text": [
      "\r",
      " 62%|█████████████████████████▌               | 111/178 [01:50<01:11,  1.06s/it]"
     ]
    },
    {
     "name": "stdout",
     "output_type": "stream",
     "text": [
      "2014.8.csv 데이터의 전체 개수 : 19919\n"
     ]
    },
    {
     "name": "stderr",
     "output_type": "stream",
     "text": [
      "\r",
      " 63%|█████████████████████████▊               | 112/178 [01:51<00:58,  1.14it/s]"
     ]
    },
    {
     "name": "stdout",
     "output_type": "stream",
     "text": [
      "2021.5.csv 데이터의 전체 개수 : 5110\n"
     ]
    },
    {
     "name": "stderr",
     "output_type": "stream",
     "text": [
      "\r",
      " 63%|██████████████████████████               | 113/178 [01:51<00:45,  1.42it/s]"
     ]
    },
    {
     "name": "stdout",
     "output_type": "stream",
     "text": [
      "2005.4.csv 데이터의 전체 개수 : 6307\n"
     ]
    },
    {
     "name": "stderr",
     "output_type": "stream",
     "text": [
      "\r",
      " 64%|██████████████████████████▎              | 114/178 [01:52<00:56,  1.14it/s]"
     ]
    },
    {
     "name": "stdout",
     "output_type": "stream",
     "text": [
      "2018.1.csv 데이터의 전체 개수 : 20000\n"
     ]
    },
    {
     "name": "stderr",
     "output_type": "stream",
     "text": [
      "\r",
      " 65%|██████████████████████████▍              | 115/178 [01:53<00:52,  1.20it/s]"
     ]
    },
    {
     "name": "stdout",
     "output_type": "stream",
     "text": [
      "2003.2.csv 데이터의 전체 개수 : 13734\n"
     ]
    },
    {
     "name": "stderr",
     "output_type": "stream",
     "text": [
      "\r",
      " 65%|██████████████████████████▋              | 116/178 [01:54<00:56,  1.09it/s]"
     ]
    },
    {
     "name": "stdout",
     "output_type": "stream",
     "text": [
      "2010.8.csv 데이터의 전체 개수 : 19964\n"
     ]
    },
    {
     "name": "stderr",
     "output_type": "stream",
     "text": [
      " 66%|███████████████████████████▏             | 118/178 [01:55<00:34,  1.72it/s]"
     ]
    },
    {
     "name": "stdout",
     "output_type": "stream",
     "text": [
      "2001.1.csv 데이터의 전체 개수 : 10562\n",
      "2009.8.csv 데이터의 전체 개수 : 1388\n"
     ]
    },
    {
     "name": "stderr",
     "output_type": "stream",
     "text": [
      "\r",
      " 67%|███████████████████████████▍             | 119/178 [01:56<00:47,  1.25it/s]"
     ]
    },
    {
     "name": "stdout",
     "output_type": "stream",
     "text": [
      "2021.4.csv 데이터의 전체 개수 : 20000\n"
     ]
    },
    {
     "name": "stderr",
     "output_type": "stream",
     "text": [
      "\r",
      " 67%|███████████████████████████▋             | 120/178 [01:57<00:44,  1.31it/s]"
     ]
    },
    {
     "name": "stdout",
     "output_type": "stream",
     "text": [
      "2007.5.csv 데이터의 전체 개수 : 13153\n"
     ]
    },
    {
     "name": "stderr",
     "output_type": "stream",
     "text": [
      "\r",
      " 68%|███████████████████████████▊             | 121/178 [01:58<00:47,  1.19it/s]"
     ]
    },
    {
     "name": "stdout",
     "output_type": "stream",
     "text": [
      "2021.6.csv 데이터의 전체 개수 : 14928\n"
     ]
    },
    {
     "name": "stderr",
     "output_type": "stream",
     "text": [
      "\r",
      " 69%|████████████████████████████             | 122/178 [01:58<00:43,  1.29it/s]"
     ]
    },
    {
     "name": "stdout",
     "output_type": "stream",
     "text": [
      "1993_1994.csv 데이터의 전체 개수 : 14126\n"
     ]
    },
    {
     "name": "stderr",
     "output_type": "stream",
     "text": [
      "\r",
      " 69%|████████████████████████████▎            | 123/178 [02:00<00:53,  1.03it/s]"
     ]
    },
    {
     "name": "stdout",
     "output_type": "stream",
     "text": [
      "2018.2.csv 데이터의 전체 개수 : 20000\n"
     ]
    },
    {
     "name": "stderr",
     "output_type": "stream",
     "text": [
      "\r",
      " 70%|████████████████████████████▌            | 124/178 [02:00<00:48,  1.11it/s]"
     ]
    },
    {
     "name": "stdout",
     "output_type": "stream",
     "text": [
      "2003.1.csv 데이터의 전체 개수 : 13733\n"
     ]
    },
    {
     "name": "stderr",
     "output_type": "stream",
     "text": [
      "\r",
      " 70%|████████████████████████████▊            | 125/178 [02:01<00:48,  1.09it/s]"
     ]
    },
    {
     "name": "stdout",
     "output_type": "stream",
     "text": [
      "2012.9.csv 데이터의 전체 개수 : 17771\n"
     ]
    },
    {
     "name": "stderr",
     "output_type": "stream",
     "text": [
      "\r",
      " 71%|█████████████████████████████            | 126/178 [02:02<00:41,  1.27it/s]"
     ]
    },
    {
     "name": "stdout",
     "output_type": "stream",
     "text": [
      "2001.2.csv 데이터의 전체 개수 : 10561\n"
     ]
    },
    {
     "name": "stderr",
     "output_type": "stream",
     "text": [
      "\r",
      " 71%|█████████████████████████████▎           | 127/178 [02:03<00:45,  1.13it/s]"
     ]
    },
    {
     "name": "stdout",
     "output_type": "stream",
     "text": [
      "2012.8.csv 데이터의 전체 개수 : 19579\n"
     ]
    },
    {
     "name": "stderr",
     "output_type": "stream",
     "text": [
      "\r",
      " 72%|█████████████████████████████▍           | 128/178 [02:04<00:46,  1.07it/s]"
     ]
    },
    {
     "name": "stdout",
     "output_type": "stream",
     "text": [
      "2018.3.csv 데이터의 전체 개수 : 17105\n"
     ]
    },
    {
     "name": "stderr",
     "output_type": "stream",
     "text": [
      "\r",
      " 72%|█████████████████████████████▋           | 129/178 [02:05<00:52,  1.07s/it]"
     ]
    },
    {
     "name": "stdout",
     "output_type": "stream",
     "text": [
      "2021.7.csv 데이터의 전체 개수 : 19890\n"
     ]
    },
    {
     "name": "stderr",
     "output_type": "stream",
     "text": [
      "\r",
      " 73%|█████████████████████████████▉           | 130/178 [02:06<00:50,  1.05s/it]"
     ]
    },
    {
     "name": "stdout",
     "output_type": "stream",
     "text": [
      "2007.4.csv 데이터의 전체 개수 : 19168\n"
     ]
    },
    {
     "name": "stderr",
     "output_type": "stream",
     "text": [
      "\r",
      " 74%|██████████████████████████████▏          | 131/178 [02:07<00:42,  1.11it/s]"
     ]
    },
    {
     "name": "stdout",
     "output_type": "stream",
     "text": [
      "1999.csv 데이터의 전체 개수 : 12845\n",
      ".ipynb_checkpoints\n"
     ]
    },
    {
     "name": "stderr",
     "output_type": "stream",
     "text": [
      "\r",
      " 75%|██████████████████████████████▋          | 133/178 [02:08<00:29,  1.51it/s]"
     ]
    },
    {
     "name": "stdout",
     "output_type": "stream",
     "text": [
      "1989_1992.csv 데이터의 전체 개수 : 18824\n"
     ]
    },
    {
     "name": "stderr",
     "output_type": "stream",
     "text": [
      "\r",
      " 75%|██████████████████████████████▊          | 134/178 [02:09<00:36,  1.20it/s]"
     ]
    },
    {
     "name": "stdout",
     "output_type": "stream",
     "text": [
      "2019.11.csv 데이터의 전체 개수 : 19426\n"
     ]
    },
    {
     "name": "stderr",
     "output_type": "stream",
     "text": [
      "\r",
      " 76%|███████████████████████████████          | 135/178 [02:10<00:41,  1.03it/s]"
     ]
    },
    {
     "name": "stdout",
     "output_type": "stream",
     "text": [
      "2022.2.csv 데이터의 전체 개수 : 15401\n"
     ]
    },
    {
     "name": "stderr",
     "output_type": "stream",
     "text": [
      "\r",
      " 76%|███████████████████████████████▎         | 136/178 [02:11<00:36,  1.16it/s]"
     ]
    },
    {
     "name": "stdout",
     "output_type": "stream",
     "text": [
      "2004.1.csv 데이터의 전체 개수 : 11880\n"
     ]
    },
    {
     "name": "stderr",
     "output_type": "stream",
     "text": [
      "\r",
      " 77%|███████████████████████████████▌         | 137/178 [02:12<00:40,  1.01it/s]"
     ]
    },
    {
     "name": "stdout",
     "output_type": "stream",
     "text": [
      "2019.4.csv 데이터의 전체 개수 : 18302\n"
     ]
    },
    {
     "name": "stderr",
     "output_type": "stream",
     "text": [
      "\r",
      " 78%|███████████████████████████████▊         | 138/178 [02:13<00:39,  1.02it/s]"
     ]
    },
    {
     "name": "stdout",
     "output_type": "stream",
     "text": [
      "2006.3.csv 데이터의 전체 개수 : 19018\n"
     ]
    },
    {
     "name": "stderr",
     "output_type": "stream",
     "text": [
      "\r",
      " 78%|████████████████████████████████         | 139/178 [02:14<00:37,  1.04it/s]"
     ]
    },
    {
     "name": "stdout",
     "output_type": "stream",
     "text": [
      "2006.2.csv 데이터의 전체 개수 : 18047\n"
     ]
    },
    {
     "name": "stderr",
     "output_type": "stream",
     "text": [
      "\r",
      " 79%|████████████████████████████████▏        | 140/178 [02:16<00:40,  1.06s/it]"
     ]
    },
    {
     "name": "stdout",
     "output_type": "stream",
     "text": [
      "2020.1.csv 데이터의 전체 개수 : 20000\n"
     ]
    },
    {
     "name": "stderr",
     "output_type": "stream",
     "text": [
      "\r",
      " 79%|████████████████████████████████▍        | 141/178 [02:17<00:40,  1.09s/it]"
     ]
    },
    {
     "name": "stdout",
     "output_type": "stream",
     "text": [
      "2015.8.csv 데이터의 전체 개수 : 19477\n"
     ]
    },
    {
     "name": "stderr",
     "output_type": "stream",
     "text": [
      "\r",
      " 80%|████████████████████████████████▋        | 142/178 [02:17<00:35,  1.01it/s]"
     ]
    },
    {
     "name": "stdout",
     "output_type": "stream",
     "text": [
      "2019.5.csv 데이터의 전체 개수 : 10369\n"
     ]
    },
    {
     "name": "stderr",
     "output_type": "stream",
     "text": [
      "\r",
      " 80%|████████████████████████████████▉        | 143/178 [02:19<00:43,  1.24s/it]"
     ]
    },
    {
     "name": "stdout",
     "output_type": "stream",
     "text": [
      "2022.3.csv 데이터의 전체 개수 : 20000\n"
     ]
    },
    {
     "name": "stderr",
     "output_type": "stream",
     "text": [
      "\r",
      " 81%|█████████████████████████████████▏       | 144/178 [02:20<00:36,  1.08s/it]"
     ]
    },
    {
     "name": "stdout",
     "output_type": "stream",
     "text": [
      "1995_1996.csv 데이터의 전체 개수 : 14909\n"
     ]
    },
    {
     "name": "stderr",
     "output_type": "stream",
     "text": [
      "\r",
      " 81%|█████████████████████████████████▍       | 145/178 [02:21<00:38,  1.16s/it]"
     ]
    },
    {
     "name": "stdout",
     "output_type": "stream",
     "text": [
      "2019.10.csv 데이터의 전체 개수 : 19299\n"
     ]
    },
    {
     "name": "stderr",
     "output_type": "stream",
     "text": [
      "\r",
      " 82%|█████████████████████████████████▋       | 146/178 [02:22<00:31,  1.01it/s]"
     ]
    },
    {
     "name": "stdout",
     "output_type": "stream",
     "text": [
      "1998.csv 데이터의 전체 개수 : 12777\n"
     ]
    },
    {
     "name": "stderr",
     "output_type": "stream",
     "text": [
      "\r",
      " 83%|█████████████████████████████████▊       | 147/178 [02:23<00:31,  1.01s/it]"
     ]
    },
    {
     "name": "stdout",
     "output_type": "stream",
     "text": [
      "2019.12.csv 데이터의 전체 개수 : 15140\n"
     ]
    },
    {
     "name": "stderr",
     "output_type": "stream",
     "text": [
      "\r",
      " 83%|██████████████████████████████████       | 148/178 [02:24<00:26,  1.14it/s]"
     ]
    },
    {
     "name": "stdout",
     "output_type": "stream",
     "text": [
      "2004.2.csv 데이터의 전체 개수 : 11880\n"
     ]
    },
    {
     "name": "stderr",
     "output_type": "stream",
     "text": [
      "\r",
      " 84%|██████████████████████████████████▎      | 149/178 [02:25<00:30,  1.06s/it]"
     ]
    },
    {
     "name": "stdout",
     "output_type": "stream",
     "text": [
      "2022.1.csv 데이터의 전체 개수 : 20000\n"
     ]
    },
    {
     "name": "stderr",
     "output_type": "stream",
     "text": [
      "\r",
      " 84%|██████████████████████████████████▌      | 150/178 [02:26<00:30,  1.09s/it]"
     ]
    },
    {
     "name": "stdout",
     "output_type": "stream",
     "text": [
      "2017.8.csv 데이터의 전체 개수 : 18637\n"
     ]
    },
    {
     "name": "stderr",
     "output_type": "stream",
     "text": [
      "\r",
      " 85%|██████████████████████████████████▊      | 151/178 [02:27<00:30,  1.12s/it]"
     ]
    },
    {
     "name": "stdout",
     "output_type": "stream",
     "text": [
      "2019.7.csv 데이터의 전체 개수 : 18484\n"
     ]
    },
    {
     "name": "stderr",
     "output_type": "stream",
     "text": [
      "\r",
      " 85%|███████████████████████████████████      | 152/178 [02:29<00:33,  1.27s/it]"
     ]
    },
    {
     "name": "stdout",
     "output_type": "stream",
     "text": [
      "2020.3.csv 데이터의 전체 개수 : 20000\n"
     ]
    },
    {
     "name": "stderr",
     "output_type": "stream",
     "text": [
      "\r",
      " 86%|███████████████████████████████████▏     | 153/178 [02:30<00:29,  1.19s/it]"
     ]
    },
    {
     "name": "stdout",
     "output_type": "stream",
     "text": [
      "2020.2.csv 데이터의 전체 개수 : 14650\n"
     ]
    },
    {
     "name": "stderr",
     "output_type": "stream",
     "text": [
      "\r",
      " 87%|███████████████████████████████████▍     | 154/178 [02:31<00:27,  1.15s/it]"
     ]
    },
    {
     "name": "stdout",
     "output_type": "stream",
     "text": [
      "2006.1.csv 데이터의 전체 개수 : 19611\n"
     ]
    },
    {
     "name": "stderr",
     "output_type": "stream",
     "text": [
      "\r",
      " 87%|███████████████████████████████████▋     | 155/178 [02:32<00:27,  1.18s/it]"
     ]
    },
    {
     "name": "stdout",
     "output_type": "stream",
     "text": [
      "2019.6.csv 데이터의 전체 개수 : 18623\n"
     ]
    },
    {
     "name": "stderr",
     "output_type": "stream",
     "text": [
      "\r",
      " 88%|███████████████████████████████████▉     | 156/178 [02:34<00:26,  1.21s/it]"
     ]
    },
    {
     "name": "stdout",
     "output_type": "stream",
     "text": [
      "2017.9.csv 데이터의 전체 개수 : 19458\n"
     ]
    },
    {
     "name": "stderr",
     "output_type": "stream",
     "text": [
      "\r",
      " 88%|████████████████████████████████████▏    | 157/178 [02:34<00:21,  1.05s/it]"
     ]
    },
    {
     "name": "stdout",
     "output_type": "stream",
     "text": [
      "2002.1.csv 데이터의 전체 개수 : 13630\n"
     ]
    },
    {
     "name": "stderr",
     "output_type": "stream",
     "text": [
      "\r",
      " 89%|████████████████████████████████████▍    | 158/178 [02:36<00:22,  1.12s/it]"
     ]
    },
    {
     "name": "stdout",
     "output_type": "stream",
     "text": [
      "2022.4.csv 데이터의 전체 개수 : 20000\n"
     ]
    },
    {
     "name": "stderr",
     "output_type": "stream",
     "text": [
      "\r",
      " 89%|████████████████████████████████████▌    | 159/178 [02:37<00:24,  1.28s/it]"
     ]
    },
    {
     "name": "stdout",
     "output_type": "stream",
     "text": [
      "2019.2.csv 데이터의 전체 개수 : 20000\n"
     ]
    },
    {
     "name": "stderr",
     "output_type": "stream",
     "text": [
      "\r",
      " 90%|████████████████████████████████████▊    | 160/178 [02:38<00:22,  1.23s/it]"
     ]
    },
    {
     "name": "stdout",
     "output_type": "stream",
     "text": [
      "2020.6.csv 데이터의 전체 개수 : 14713\n"
     ]
    },
    {
     "name": "stderr",
     "output_type": "stream",
     "text": [
      "\r",
      " 90%|█████████████████████████████████████    | 161/178 [02:39<00:20,  1.19s/it]"
     ]
    },
    {
     "name": "stdout",
     "output_type": "stream",
     "text": [
      "2020.7.csv 데이터의 전체 개수 : 16117\n"
     ]
    },
    {
     "name": "stderr",
     "output_type": "stream",
     "text": [
      "\r",
      " 91%|█████████████████████████████████████▎   | 162/178 [02:40<00:17,  1.11s/it]"
     ]
    },
    {
     "name": "stdout",
     "output_type": "stream",
     "text": [
      "2006.4.csv 데이터의 전체 개수 : 18122\n"
     ]
    },
    {
     "name": "stderr",
     "output_type": "stream",
     "text": [
      "\r",
      " 92%|█████████████████████████████████████▌   | 163/178 [02:42<00:17,  1.19s/it]"
     ]
    },
    {
     "name": "stdout",
     "output_type": "stream",
     "text": [
      "2019.3.csv 데이터의 전체 개수 : 20000\n"
     ]
    },
    {
     "name": "stderr",
     "output_type": "stream",
     "text": [
      "\r",
      " 92%|█████████████████████████████████████▊   | 164/178 [02:42<00:13,  1.05it/s]"
     ]
    },
    {
     "name": "stdout",
     "output_type": "stream",
     "text": [
      "2022.5.csv 데이터의 전체 개수 : 3719\n"
     ]
    },
    {
     "name": "stderr",
     "output_type": "stream",
     "text": [
      "\r",
      " 93%|██████████████████████████████████████   | 165/178 [02:43<00:13,  1.05s/it]"
     ]
    },
    {
     "name": "stdout",
     "output_type": "stream",
     "text": [
      "2021.12.csv 데이터의 전체 개수 : 17810\n"
     ]
    },
    {
     "name": "stderr",
     "output_type": "stream",
     "text": [
      "\r",
      " 93%|██████████████████████████████████████▏  | 166/178 [02:44<00:12,  1.04s/it]"
     ]
    },
    {
     "name": "stdout",
     "output_type": "stream",
     "text": [
      "2013.8.csv 데이터의 전체 개수 : 18601\n"
     ]
    },
    {
     "name": "stderr",
     "output_type": "stream",
     "text": [
      "\r",
      " 94%|██████████████████████████████████████▍  | 167/178 [02:46<00:12,  1.15s/it]"
     ]
    },
    {
     "name": "stdout",
     "output_type": "stream",
     "text": [
      "2021.10.csv 데이터의 전체 개수 : 19272\n"
     ]
    },
    {
     "name": "stderr",
     "output_type": "stream",
     "text": [
      "\r",
      " 94%|██████████████████████████████████████▋  | 168/178 [02:46<00:09,  1.00it/s]"
     ]
    },
    {
     "name": "stdout",
     "output_type": "stream",
     "text": [
      "2002.2.csv 데이터의 전체 개수 : 13631\n"
     ]
    },
    {
     "name": "stderr",
     "output_type": "stream",
     "text": [
      "\r",
      " 95%|██████████████████████████████████████▉  | 169/178 [02:47<00:07,  1.21it/s]"
     ]
    },
    {
     "name": "stdout",
     "output_type": "stream",
     "text": [
      "2011.8.csv 데이터의 전체 개수 : 7703\n",
      "Preprocess_Data\n"
     ]
    },
    {
     "name": "stderr",
     "output_type": "stream",
     "text": [
      "\r",
      " 96%|███████████████████████████████████████▍ | 171/178 [02:47<00:04,  1.70it/s]"
     ]
    },
    {
     "name": "stdout",
     "output_type": "stream",
     "text": [
      "2017.11.csv 데이터의 전체 개수 : 10598\n"
     ]
    },
    {
     "name": "stderr",
     "output_type": "stream",
     "text": [
      "\r",
      " 97%|███████████████████████████████████████▌ | 172/178 [02:49<00:04,  1.35it/s]"
     ]
    },
    {
     "name": "stdout",
     "output_type": "stream",
     "text": [
      "2022.7.csv 데이터의 전체 개수 : 18612\n"
     ]
    },
    {
     "name": "stderr",
     "output_type": "stream",
     "text": [
      "\r",
      " 97%|███████████████████████████████████████▊ | 173/178 [02:50<00:03,  1.29it/s]"
     ]
    },
    {
     "name": "stdout",
     "output_type": "stream",
     "text": [
      "2019.1.csv 데이터의 전체 개수 : 14249\n"
     ]
    },
    {
     "name": "stderr",
     "output_type": "stream",
     "text": [
      "\r",
      " 98%|████████████████████████████████████████ | 174/178 [02:50<00:02,  1.38it/s]"
     ]
    },
    {
     "name": "stdout",
     "output_type": "stream",
     "text": [
      "2020.5.csv 데이터의 전체 개수 : 6530\n"
     ]
    },
    {
     "name": "stderr",
     "output_type": "stream",
     "text": [
      "\r",
      " 98%|████████████████████████████████████████▎| 175/178 [02:51<00:02,  1.15it/s]"
     ]
    },
    {
     "name": "stdout",
     "output_type": "stream",
     "text": [
      "2020.4.csv 데이터의 전체 개수 : 16640\n"
     ]
    },
    {
     "name": "stderr",
     "output_type": "stream",
     "text": [
      "\r",
      " 99%|████████████████████████████████████████▌| 176/178 [02:52<00:01,  1.41it/s]"
     ]
    },
    {
     "name": "stdout",
     "output_type": "stream",
     "text": [
      "2022.6.csv 데이터의 전체 개수 : 4410\n"
     ]
    },
    {
     "name": "stderr",
     "output_type": "stream",
     "text": [
      "\r",
      " 99%|████████████████████████████████████████▊| 177/178 [02:53<00:00,  1.16it/s]"
     ]
    },
    {
     "name": "stdout",
     "output_type": "stream",
     "text": [
      "2017.10.csv 데이터의 전체 개수 : 19994\n"
     ]
    },
    {
     "name": "stderr",
     "output_type": "stream",
     "text": [
      "100%|█████████████████████████████████████████| 178/178 [02:54<00:00,  1.02it/s]"
     ]
    },
    {
     "name": "stdout",
     "output_type": "stream",
     "text": [
      "2021.11.csv 데이터의 전체 개수 : 18620\n",
      "총 데이터 개수 : 2731439\n"
     ]
    },
    {
     "name": "stderr",
     "output_type": "stream",
     "text": [
      "\n"
     ]
    }
   ],
   "source": [
    "# 데이터 합치기\n",
    "\n",
    "total_data = 0\n",
    "for i in range(len(filelist)):\n",
    "    try:\n",
    "        df = pd.read_csv('./Data/{}'.format(filelist[i]))\n",
    "        # 제거할 칼럼 이름 찾기\n",
    "        print('{} 데이터의 전체 개수 : {}'.format(filelist[i], len(df)))\n",
    "        total_data += len(df)\n",
    "    except:\n",
    "        print(filelist[i])\n",
    "        pass\n",
    "    \n",
    "print('총 데이터 개수 : ' + str(total_data))"
   ]
  },
  {
   "cell_type": "code",
   "execution_count": 30,
   "id": "74116a1f",
   "metadata": {},
   "outputs": [],
   "source": [
    "data = data.drop_duplicates(subset=['Abstract', 'Year'], keep='first')"
   ]
  },
  {
   "cell_type": "code",
   "execution_count": 34,
   "id": "ee14a099",
   "metadata": {},
   "outputs": [
    {
     "name": "stdout",
     "output_type": "stream",
     "text": [
      "2287213\n"
     ]
    }
   ],
   "source": [
    "print(len(data))"
   ]
  },
  {
   "cell_type": "code",
   "execution_count": 8,
   "id": "0643e9ac",
   "metadata": {},
   "outputs": [
    {
     "data": {
      "text/html": [
       "<div>\n",
       "<style scoped>\n",
       "    .dataframe tbody tr th:only-of-type {\n",
       "        vertical-align: middle;\n",
       "    }\n",
       "\n",
       "    .dataframe tbody tr th {\n",
       "        vertical-align: top;\n",
       "    }\n",
       "\n",
       "    .dataframe thead th {\n",
       "        text-align: right;\n",
       "    }\n",
       "</style>\n",
       "<table border=\"1\" class=\"dataframe\">\n",
       "  <thead>\n",
       "    <tr style=\"text-align: right;\">\n",
       "      <th></th>\n",
       "      <th>Cited by</th>\n",
       "    </tr>\n",
       "    <tr>\n",
       "      <th>Year</th>\n",
       "      <th></th>\n",
       "    </tr>\n",
       "  </thead>\n",
       "  <tbody>\n",
       "    <tr>\n",
       "      <th>2001</th>\n",
       "      <td>18.473533</td>\n",
       "    </tr>\n",
       "    <tr>\n",
       "      <th>2002</th>\n",
       "      <td>21.299598</td>\n",
       "    </tr>\n",
       "    <tr>\n",
       "      <th>2003</th>\n",
       "      <td>22.340139</td>\n",
       "    </tr>\n",
       "    <tr>\n",
       "      <th>2004</th>\n",
       "      <td>21.791994</td>\n",
       "    </tr>\n",
       "    <tr>\n",
       "      <th>2005</th>\n",
       "      <td>15.847567</td>\n",
       "    </tr>\n",
       "    <tr>\n",
       "      <th>2006</th>\n",
       "      <td>14.571817</td>\n",
       "    </tr>\n",
       "    <tr>\n",
       "      <th>2007</th>\n",
       "      <td>13.944532</td>\n",
       "    </tr>\n",
       "    <tr>\n",
       "      <th>2008</th>\n",
       "      <td>12.453735</td>\n",
       "    </tr>\n",
       "    <tr>\n",
       "      <th>2009</th>\n",
       "      <td>11.745857</td>\n",
       "    </tr>\n",
       "    <tr>\n",
       "      <th>2010</th>\n",
       "      <td>11.363920</td>\n",
       "    </tr>\n",
       "    <tr>\n",
       "      <th>2011</th>\n",
       "      <td>11.356450</td>\n",
       "    </tr>\n",
       "    <tr>\n",
       "      <th>2012</th>\n",
       "      <td>10.839122</td>\n",
       "    </tr>\n",
       "    <tr>\n",
       "      <th>2013</th>\n",
       "      <td>10.771481</td>\n",
       "    </tr>\n",
       "    <tr>\n",
       "      <th>2014</th>\n",
       "      <td>11.731880</td>\n",
       "    </tr>\n",
       "    <tr>\n",
       "      <th>2015</th>\n",
       "      <td>12.557381</td>\n",
       "    </tr>\n",
       "    <tr>\n",
       "      <th>2016</th>\n",
       "      <td>11.326880</td>\n",
       "    </tr>\n",
       "    <tr>\n",
       "      <th>2017</th>\n",
       "      <td>11.160008</td>\n",
       "    </tr>\n",
       "    <tr>\n",
       "      <th>2018</th>\n",
       "      <td>9.258886</td>\n",
       "    </tr>\n",
       "    <tr>\n",
       "      <th>2019</th>\n",
       "      <td>7.125970</td>\n",
       "    </tr>\n",
       "    <tr>\n",
       "      <th>2020</th>\n",
       "      <td>5.088112</td>\n",
       "    </tr>\n",
       "    <tr>\n",
       "      <th>2021</th>\n",
       "      <td>2.239546</td>\n",
       "    </tr>\n",
       "    <tr>\n",
       "      <th>2022</th>\n",
       "      <td>0.503699</td>\n",
       "    </tr>\n",
       "    <tr>\n",
       "      <th>2023</th>\n",
       "      <td>0.061701</td>\n",
       "    </tr>\n",
       "  </tbody>\n",
       "</table>\n",
       "</div>"
      ],
      "text/plain": [
       "       Cited by\n",
       "Year           \n",
       "2001  18.473533\n",
       "2002  21.299598\n",
       "2003  22.340139\n",
       "2004  21.791994\n",
       "2005  15.847567\n",
       "2006  14.571817\n",
       "2007  13.944532\n",
       "2008  12.453735\n",
       "2009  11.745857\n",
       "2010  11.363920\n",
       "2011  11.356450\n",
       "2012  10.839122\n",
       "2013  10.771481\n",
       "2014  11.731880\n",
       "2015  12.557381\n",
       "2016  11.326880\n",
       "2017  11.160008\n",
       "2018   9.258886\n",
       "2019   7.125970\n",
       "2020   5.088112\n",
       "2021   2.239546\n",
       "2022   0.503699\n",
       "2023   0.061701"
      ]
     },
     "execution_count": 8,
     "metadata": {},
     "output_type": "execute_result"
    }
   ],
   "source": [
    "data.groupby('Year')[['Cited by']].mean()"
   ]
  },
  {
   "cell_type": "code",
   "execution_count": 32,
   "id": "f1b9287a",
   "metadata": {},
   "outputs": [],
   "source": [
    "# 총 데이터 저장\n",
    "data.to_csv('Data/Preprocess_Data/Total_Data.csv', encoding='utf-8-sig', index=False)"
   ]
  },
  {
   "cell_type": "code",
   "execution_count": 35,
   "id": "578be183",
   "metadata": {},
   "outputs": [],
   "source": [
    "df = pd.read_csv('/Users/leeshinhaeng/과기통신부 연구/New 연구/Data/2013.4.csv')"
   ]
  },
  {
   "cell_type": "code",
   "execution_count": 36,
   "id": "9433039f",
   "metadata": {},
   "outputs": [
    {
     "data": {
      "text/plain": [
       "14744"
      ]
     },
     "execution_count": 36,
     "metadata": {},
     "output_type": "execute_result"
    }
   ],
   "source": [
    "len(df)"
   ]
  },
  {
   "cell_type": "code",
   "execution_count": null,
   "id": "afcaeb16",
   "metadata": {},
   "outputs": [],
   "source": []
  },
  {
   "cell_type": "code",
   "execution_count": null,
   "id": "4d293b1e",
   "metadata": {},
   "outputs": [],
   "source": []
  },
  {
   "cell_type": "code",
   "execution_count": null,
   "id": "365558f7",
   "metadata": {},
   "outputs": [],
   "source": []
  }
 ],
 "metadata": {
  "kernelspec": {
   "display_name": "Python 3 (ipykernel)",
   "language": "python",
   "name": "python3"
  },
  "language_info": {
   "codemirror_mode": {
    "name": "ipython",
    "version": 3
   },
   "file_extension": ".py",
   "mimetype": "text/x-python",
   "name": "python",
   "nbconvert_exporter": "python",
   "pygments_lexer": "ipython3",
   "version": "3.8.5"
  }
 },
 "nbformat": 4,
 "nbformat_minor": 5
}
