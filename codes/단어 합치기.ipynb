{
 "cells": [
  {
   "cell_type": "code",
   "execution_count": 3,
   "id": "edadd73f",
   "metadata": {},
   "outputs": [],
   "source": [
    "# Library\n",
    "import pandas as pd\n",
    "import numpy as np\n",
    "import os\n",
    "from tqdm import tqdm\n",
    "\n",
    "import warnings\n",
    "warnings.filterwarnings('ignore')\n",
    "\n",
    "import re\n",
    "import nltk\n",
    "\n",
    "from nltk.corpus import stopwords\n",
    "from nltk.tokenize import word_tokenize \n",
    "from konlpy.tag import Okt\n",
    "\n",
    "from gensim.models import Word2Vec\n",
    "from gensim.models import KeyedVectors"
   ]
  },
  {
   "cell_type": "code",
   "execution_count": 4,
   "id": "ca6b520d",
   "metadata": {},
   "outputs": [],
   "source": [
    "words_data = pd.read_csv('./Data/Preprocess_Data/up20_words_완료_추가제거x.csv')\n",
    "words = pd.read_csv('./Data/Preprocess_Data/추가할 단어0720.csv')"
   ]
  },
  {
   "cell_type": "code",
   "execution_count": 5,
   "id": "05d58606",
   "metadata": {},
   "outputs": [
    {
     "data": {
      "text/html": [
       "<div>\n",
       "<style scoped>\n",
       "    .dataframe tbody tr th:only-of-type {\n",
       "        vertical-align: middle;\n",
       "    }\n",
       "\n",
       "    .dataframe tbody tr th {\n",
       "        vertical-align: top;\n",
       "    }\n",
       "\n",
       "    .dataframe thead th {\n",
       "        text-align: right;\n",
       "    }\n",
       "</style>\n",
       "<table border=\"1\" class=\"dataframe\">\n",
       "  <thead>\n",
       "    <tr style=\"text-align: right;\">\n",
       "      <th></th>\n",
       "      <th>keywords</th>\n",
       "    </tr>\n",
       "  </thead>\n",
       "  <tbody>\n",
       "    <tr>\n",
       "      <th>0</th>\n",
       "      <td>1d_cnn</td>\n",
       "    </tr>\n",
       "    <tr>\n",
       "      <th>1</th>\n",
       "      <td>1d_convolutional_neural_network</td>\n",
       "    </tr>\n",
       "    <tr>\n",
       "      <th>2</th>\n",
       "      <td>1dcnn</td>\n",
       "    </tr>\n",
       "    <tr>\n",
       "      <th>3</th>\n",
       "      <td>28_ghz</td>\n",
       "    </tr>\n",
       "    <tr>\n",
       "      <th>4</th>\n",
       "      <td>2d_human_pose_estimation</td>\n",
       "    </tr>\n",
       "    <tr>\n",
       "      <th>...</th>\n",
       "      <td>...</td>\n",
       "    </tr>\n",
       "    <tr>\n",
       "      <th>395</th>\n",
       "      <td>yolov5</td>\n",
       "    </tr>\n",
       "    <tr>\n",
       "      <th>396</th>\n",
       "      <td>yolov5_algorithm</td>\n",
       "    </tr>\n",
       "    <tr>\n",
       "      <th>397</th>\n",
       "      <td>yolov5s</td>\n",
       "    </tr>\n",
       "    <tr>\n",
       "      <th>398</th>\n",
       "      <td>yolov7</td>\n",
       "    </tr>\n",
       "    <tr>\n",
       "      <th>399</th>\n",
       "      <td>you_only_look_once</td>\n",
       "    </tr>\n",
       "  </tbody>\n",
       "</table>\n",
       "<p>400 rows × 1 columns</p>\n",
       "</div>"
      ],
      "text/plain": [
       "                            keywords\n",
       "0                             1d_cnn\n",
       "1    1d_convolutional_neural_network\n",
       "2                              1dcnn\n",
       "3                             28_ghz\n",
       "4           2d_human_pose_estimation\n",
       "..                               ...\n",
       "395                           yolov5\n",
       "396                 yolov5_algorithm\n",
       "397                          yolov5s\n",
       "398                           yolov7\n",
       "399               you_only_look_once\n",
       "\n",
       "[400 rows x 1 columns]"
      ]
     },
     "execution_count": 5,
     "metadata": {},
     "output_type": "execute_result"
    }
   ],
   "source": [
    "words"
   ]
  },
  {
   "cell_type": "code",
   "execution_count": 4,
   "id": "e8e61c64",
   "metadata": {},
   "outputs": [
    {
     "data": {
      "text/plain": [
       "9187"
      ]
     },
     "execution_count": 4,
     "metadata": {},
     "output_type": "execute_result"
    }
   ],
   "source": [
    "words_data = words_data[words_data['제거']!='x']\n",
    "words_data.reset_index(drop=True, inplace=True)\n",
    "words_data.drop('제거',axis=1, inplace=True)\n",
    "len(words_data)"
   ]
  },
  {
   "cell_type": "code",
   "execution_count": 5,
   "id": "1e785e92",
   "metadata": {},
   "outputs": [],
   "source": [
    "words_data = words_data[words_data['추가제거']!='x']"
   ]
  },
  {
   "cell_type": "code",
   "execution_count": 12,
   "id": "cd55bc77",
   "metadata": {},
   "outputs": [],
   "source": [
    "words_data = words_data[['word']]"
   ]
  },
  {
   "cell_type": "code",
   "execution_count": 14,
   "id": "e1b0a4a1",
   "metadata": {},
   "outputs": [
    {
     "data": {
      "text/html": [
       "<div>\n",
       "<style scoped>\n",
       "    .dataframe tbody tr th:only-of-type {\n",
       "        vertical-align: middle;\n",
       "    }\n",
       "\n",
       "    .dataframe tbody tr th {\n",
       "        vertical-align: top;\n",
       "    }\n",
       "\n",
       "    .dataframe thead th {\n",
       "        text-align: right;\n",
       "    }\n",
       "</style>\n",
       "<table border=\"1\" class=\"dataframe\">\n",
       "  <thead>\n",
       "    <tr style=\"text-align: right;\">\n",
       "      <th></th>\n",
       "      <th>word</th>\n",
       "    </tr>\n",
       "  </thead>\n",
       "  <tbody>\n",
       "    <tr>\n",
       "      <th>0</th>\n",
       "      <td>802.11</td>\n",
       "    </tr>\n",
       "    <tr>\n",
       "      <th>1</th>\n",
       "      <td>2d animation</td>\n",
       "    </tr>\n",
       "    <tr>\n",
       "      <th>2</th>\n",
       "      <td>2d barcode</td>\n",
       "    </tr>\n",
       "    <tr>\n",
       "      <th>3</th>\n",
       "      <td>2d cnn</td>\n",
       "    </tr>\n",
       "    <tr>\n",
       "      <th>4</th>\n",
       "      <td>2d image</td>\n",
       "    </tr>\n",
       "    <tr>\n",
       "      <th>...</th>\n",
       "      <td>...</td>\n",
       "    </tr>\n",
       "    <tr>\n",
       "      <th>9182</th>\n",
       "      <td>zero watermarking</td>\n",
       "    </tr>\n",
       "    <tr>\n",
       "      <th>9183</th>\n",
       "      <td>zigbee</td>\n",
       "    </tr>\n",
       "    <tr>\n",
       "      <th>9184</th>\n",
       "      <td>zigbee network</td>\n",
       "    </tr>\n",
       "    <tr>\n",
       "      <th>9185</th>\n",
       "      <td>zigbee protocol</td>\n",
       "    </tr>\n",
       "    <tr>\n",
       "      <th>9186</th>\n",
       "      <td>zigbee technology</td>\n",
       "    </tr>\n",
       "  </tbody>\n",
       "</table>\n",
       "<p>8753 rows × 1 columns</p>\n",
       "</div>"
      ],
      "text/plain": [
       "                   word\n",
       "0                802.11\n",
       "1          2d animation\n",
       "2            2d barcode\n",
       "3                2d cnn\n",
       "4              2d image\n",
       "...                 ...\n",
       "9182  zero watermarking\n",
       "9183             zigbee\n",
       "9184     zigbee network\n",
       "9185    zigbee protocol\n",
       "9186  zigbee technology\n",
       "\n",
       "[8753 rows x 1 columns]"
      ]
     },
     "execution_count": 14,
     "metadata": {},
     "output_type": "execute_result"
    }
   ],
   "source": [
    "words_data"
   ]
  },
  {
   "cell_type": "code",
   "execution_count": 7,
   "id": "8bd76633",
   "metadata": {},
   "outputs": [],
   "source": [
    "words.columns = ['word2']"
   ]
  },
  {
   "cell_type": "code",
   "execution_count": 8,
   "id": "6ed42e29",
   "metadata": {},
   "outputs": [],
   "source": [
    "words['word'] = words['word2'].str.replace('_', ' ')"
   ]
  },
  {
   "cell_type": "code",
   "execution_count": 10,
   "id": "d7c35318",
   "metadata": {},
   "outputs": [],
   "source": [
    "words = words[['word']]"
   ]
  },
  {
   "cell_type": "code",
   "execution_count": 11,
   "id": "0646cb53",
   "metadata": {},
   "outputs": [
    {
     "data": {
      "text/html": [
       "<div>\n",
       "<style scoped>\n",
       "    .dataframe tbody tr th:only-of-type {\n",
       "        vertical-align: middle;\n",
       "    }\n",
       "\n",
       "    .dataframe tbody tr th {\n",
       "        vertical-align: top;\n",
       "    }\n",
       "\n",
       "    .dataframe thead th {\n",
       "        text-align: right;\n",
       "    }\n",
       "</style>\n",
       "<table border=\"1\" class=\"dataframe\">\n",
       "  <thead>\n",
       "    <tr style=\"text-align: right;\">\n",
       "      <th></th>\n",
       "      <th>word</th>\n",
       "    </tr>\n",
       "  </thead>\n",
       "  <tbody>\n",
       "    <tr>\n",
       "      <th>0</th>\n",
       "      <td>1d cnn</td>\n",
       "    </tr>\n",
       "    <tr>\n",
       "      <th>1</th>\n",
       "      <td>1d convolutional neural network</td>\n",
       "    </tr>\n",
       "    <tr>\n",
       "      <th>2</th>\n",
       "      <td>1dcnn</td>\n",
       "    </tr>\n",
       "    <tr>\n",
       "      <th>3</th>\n",
       "      <td>28 ghz</td>\n",
       "    </tr>\n",
       "    <tr>\n",
       "      <th>4</th>\n",
       "      <td>2d human pose estimation</td>\n",
       "    </tr>\n",
       "  </tbody>\n",
       "</table>\n",
       "</div>"
      ],
      "text/plain": [
       "                              word\n",
       "0                           1d cnn\n",
       "1  1d convolutional neural network\n",
       "2                            1dcnn\n",
       "3                           28 ghz\n",
       "4         2d human pose estimation"
      ]
     },
     "execution_count": 11,
     "metadata": {},
     "output_type": "execute_result"
    }
   ],
   "source": [
    "words.head()"
   ]
  },
  {
   "cell_type": "code",
   "execution_count": 15,
   "id": "9a4bffaa",
   "metadata": {},
   "outputs": [],
   "source": [
    "final_words = pd.concat([words_data, words])"
   ]
  },
  {
   "cell_type": "code",
   "execution_count": 17,
   "id": "f49246d7",
   "metadata": {},
   "outputs": [
    {
     "data": {
      "text/plain": [
       "9153"
      ]
     },
     "execution_count": 17,
     "metadata": {},
     "output_type": "execute_result"
    }
   ],
   "source": [
    "final_words.reset_index(drop=True, inplace=True)\n",
    "len(final_words)"
   ]
  },
  {
   "cell_type": "code",
   "execution_count": null,
   "id": "b8b4f333",
   "metadata": {},
   "outputs": [],
   "source": []
  },
  {
   "cell_type": "code",
   "execution_count": 18,
   "id": "7e895861",
   "metadata": {},
   "outputs": [],
   "source": [
    "# 양쪽 공백 제거\n",
    "final_words['word'] = final_words['word'].str.strip()"
   ]
  },
  {
   "cell_type": "code",
   "execution_count": 19,
   "id": "deec4d87",
   "metadata": {},
   "outputs": [],
   "source": [
    "# final_words에 공백을 언더바(_)로 대체\n",
    "final_words['word2'] = 0\n",
    "for i in range(len(final_words)):\n",
    "    if len(str(final_words['word'][i]).split(' ')) >1:\n",
    "        final_words['word2'][i] = final_words['word'][i].replace(' ','_')\n",
    "    else:\n",
    "        final_words['word2'][i] = final_words['word'][i]"
   ]
  },
  {
   "cell_type": "code",
   "execution_count": 20,
   "id": "07de40ff",
   "metadata": {},
   "outputs": [],
   "source": [
    "final_words['length'] = 0\n",
    "for i in range(len(final_words)):\n",
    "    final_words['length'][i] = len(str(final_words['word'][i]))"
   ]
  },
  {
   "cell_type": "code",
   "execution_count": 21,
   "id": "f104909c",
   "metadata": {},
   "outputs": [
    {
     "data": {
      "text/html": [
       "<div>\n",
       "<style scoped>\n",
       "    .dataframe tbody tr th:only-of-type {\n",
       "        vertical-align: middle;\n",
       "    }\n",
       "\n",
       "    .dataframe tbody tr th {\n",
       "        vertical-align: top;\n",
       "    }\n",
       "\n",
       "    .dataframe thead th {\n",
       "        text-align: right;\n",
       "    }\n",
       "</style>\n",
       "<table border=\"1\" class=\"dataframe\">\n",
       "  <thead>\n",
       "    <tr style=\"text-align: right;\">\n",
       "      <th></th>\n",
       "      <th>word</th>\n",
       "      <th>word2</th>\n",
       "      <th>length</th>\n",
       "    </tr>\n",
       "  </thead>\n",
       "  <tbody>\n",
       "    <tr>\n",
       "      <th>0</th>\n",
       "      <td>802.11</td>\n",
       "      <td>802.11</td>\n",
       "      <td>6</td>\n",
       "    </tr>\n",
       "    <tr>\n",
       "      <th>1</th>\n",
       "      <td>2d animation</td>\n",
       "      <td>2d_animation</td>\n",
       "      <td>12</td>\n",
       "    </tr>\n",
       "    <tr>\n",
       "      <th>2</th>\n",
       "      <td>2d barcode</td>\n",
       "      <td>2d_barcode</td>\n",
       "      <td>10</td>\n",
       "    </tr>\n",
       "    <tr>\n",
       "      <th>3</th>\n",
       "      <td>2d cnn</td>\n",
       "      <td>2d_cnn</td>\n",
       "      <td>6</td>\n",
       "    </tr>\n",
       "    <tr>\n",
       "      <th>4</th>\n",
       "      <td>2d image</td>\n",
       "      <td>2d_image</td>\n",
       "      <td>8</td>\n",
       "    </tr>\n",
       "  </tbody>\n",
       "</table>\n",
       "</div>"
      ],
      "text/plain": [
       "           word         word2  length\n",
       "0        802.11        802.11       6\n",
       "1  2d animation  2d_animation      12\n",
       "2    2d barcode    2d_barcode      10\n",
       "3        2d cnn        2d_cnn       6\n",
       "4      2d image      2d_image       8"
      ]
     },
     "execution_count": 21,
     "metadata": {},
     "output_type": "execute_result"
    }
   ],
   "source": [
    "# 결과 확인\n",
    "final_words.head()"
   ]
  },
  {
   "cell_type": "code",
   "execution_count": 22,
   "id": "81b2a8e2",
   "metadata": {},
   "outputs": [],
   "source": [
    "# length에 따라 정렬 (변환이 제대로 되지 않는 것 방지)\n",
    "final_words.sort_values(by='length', ascending=False, inplace=True)\n",
    "final_words.reset_index(drop=True, inplace=True)"
   ]
  },
  {
   "cell_type": "code",
   "execution_count": 23,
   "id": "515c1df8",
   "metadata": {},
   "outputs": [],
   "source": [
    "# 중복되는 값 중 첫번째만 남기고 제거\n",
    "final_words.drop_duplicates(subset='word2', keep='first', inplace=True)"
   ]
  },
  {
   "cell_type": "code",
   "execution_count": 24,
   "id": "7af3e042",
   "metadata": {},
   "outputs": [
    {
     "data": {
      "text/html": [
       "<div>\n",
       "<style scoped>\n",
       "    .dataframe tbody tr th:only-of-type {\n",
       "        vertical-align: middle;\n",
       "    }\n",
       "\n",
       "    .dataframe tbody tr th {\n",
       "        vertical-align: top;\n",
       "    }\n",
       "\n",
       "    .dataframe thead th {\n",
       "        text-align: right;\n",
       "    }\n",
       "</style>\n",
       "<table border=\"1\" class=\"dataframe\">\n",
       "  <thead>\n",
       "    <tr style=\"text-align: right;\">\n",
       "      <th></th>\n",
       "      <th>word</th>\n",
       "      <th>word2</th>\n",
       "      <th>length</th>\n",
       "    </tr>\n",
       "  </thead>\n",
       "  <tbody>\n",
       "    <tr>\n",
       "      <th>0</th>\n",
       "      <td>bidirectional encoder representations from tra...</td>\n",
       "      <td>bidirectional_encoder_representations_from_tra...</td>\n",
       "      <td>55</td>\n",
       "    </tr>\n",
       "    <tr>\n",
       "      <th>1</th>\n",
       "      <td>bidirectional encoder representations from tra...</td>\n",
       "      <td>bidirectional_encoder_representations_from_tra...</td>\n",
       "      <td>54</td>\n",
       "    </tr>\n",
       "    <tr>\n",
       "      <th>2</th>\n",
       "      <td>deep convolutional generative adversarial network</td>\n",
       "      <td>deep_convolutional_generative_adversarial_network</td>\n",
       "      <td>49</td>\n",
       "    </tr>\n",
       "    <tr>\n",
       "      <th>3</th>\n",
       "      <td>contrast limited adaptive histogram equalization</td>\n",
       "      <td>contrast_limited_adaptive_histogram_equalization</td>\n",
       "      <td>48</td>\n",
       "    </tr>\n",
       "    <tr>\n",
       "      <th>4</th>\n",
       "      <td>covariance matrix adaptation evolution strategy</td>\n",
       "      <td>covariance_matrix_adaptation_evolution_strategy</td>\n",
       "      <td>47</td>\n",
       "    </tr>\n",
       "    <tr>\n",
       "      <th>...</th>\n",
       "      <td>...</td>\n",
       "      <td>...</td>\n",
       "      <td>...</td>\n",
       "    </tr>\n",
       "    <tr>\n",
       "      <th>9148</th>\n",
       "      <td>ar</td>\n",
       "      <td>ar</td>\n",
       "      <td>2</td>\n",
       "    </tr>\n",
       "    <tr>\n",
       "      <th>9149</th>\n",
       "      <td>4k</td>\n",
       "      <td>4k</td>\n",
       "      <td>2</td>\n",
       "    </tr>\n",
       "    <tr>\n",
       "      <th>9150</th>\n",
       "      <td>3d</td>\n",
       "      <td>3d</td>\n",
       "      <td>2</td>\n",
       "    </tr>\n",
       "    <tr>\n",
       "      <th>9151</th>\n",
       "      <td>6g</td>\n",
       "      <td>6g</td>\n",
       "      <td>2</td>\n",
       "    </tr>\n",
       "    <tr>\n",
       "      <th>9152</th>\n",
       "      <td>3g</td>\n",
       "      <td>3g</td>\n",
       "      <td>2</td>\n",
       "    </tr>\n",
       "  </tbody>\n",
       "</table>\n",
       "<p>9121 rows × 3 columns</p>\n",
       "</div>"
      ],
      "text/plain": [
       "                                                   word  \\\n",
       "0     bidirectional encoder representations from tra...   \n",
       "1     bidirectional encoder representations from tra...   \n",
       "2     deep convolutional generative adversarial network   \n",
       "3      contrast limited adaptive histogram equalization   \n",
       "4       covariance matrix adaptation evolution strategy   \n",
       "...                                                 ...   \n",
       "9148                                                 ar   \n",
       "9149                                                 4k   \n",
       "9150                                                 3d   \n",
       "9151                                                 6g   \n",
       "9152                                                 3g   \n",
       "\n",
       "                                                  word2  length  \n",
       "0     bidirectional_encoder_representations_from_tra...      55  \n",
       "1     bidirectional_encoder_representations_from_tra...      54  \n",
       "2     deep_convolutional_generative_adversarial_network      49  \n",
       "3      contrast_limited_adaptive_histogram_equalization      48  \n",
       "4       covariance_matrix_adaptation_evolution_strategy      47  \n",
       "...                                                 ...     ...  \n",
       "9148                                                 ar       2  \n",
       "9149                                                 4k       2  \n",
       "9150                                                 3d       2  \n",
       "9151                                                 6g       2  \n",
       "9152                                                 3g       2  \n",
       "\n",
       "[9121 rows x 3 columns]"
      ]
     },
     "execution_count": 24,
     "metadata": {},
     "output_type": "execute_result"
    }
   ],
   "source": [
    "final_words"
   ]
  },
  {
   "cell_type": "code",
   "execution_count": 25,
   "id": "5bbaa636",
   "metadata": {},
   "outputs": [],
   "source": [
    "final_words.to_csv('Data/Preprocess_Data/final_words.csv', encoding='utf-8-sig', index=False)"
   ]
  },
  {
   "cell_type": "code",
   "execution_count": null,
   "id": "33bcc476",
   "metadata": {},
   "outputs": [],
   "source": []
  }
 ],
 "metadata": {
  "kernelspec": {
   "display_name": "Python 3 (ipykernel)",
   "language": "python",
   "name": "python3"
  },
  "language_info": {
   "codemirror_mode": {
    "name": "ipython",
    "version": 3
   },
   "file_extension": ".py",
   "mimetype": "text/x-python",
   "name": "python",
   "nbconvert_exporter": "python",
   "pygments_lexer": "ipython3",
   "version": "3.8.5"
  }
 },
 "nbformat": 4,
 "nbformat_minor": 5
}
