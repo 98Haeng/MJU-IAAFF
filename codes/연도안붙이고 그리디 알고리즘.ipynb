{
 "cells": [
  {
   "cell_type": "markdown",
   "id": "b696de9a",
   "metadata": {},
   "source": [
    "- 샘플로 21,22, 23년도만 시행"
   ]
  },
  {
   "cell_type": "code",
   "execution_count": 1,
   "id": "c490774c",
   "metadata": {},
   "outputs": [],
   "source": [
    "# Library\n",
    "import pandas as pd\n",
    "import numpy as np\n",
    "import os\n",
    "from tqdm import tqdm\n",
    "\n",
    "import warnings\n",
    "warnings.filterwarnings('ignore')\n",
    "\n",
    "import re\n",
    "import nltk\n",
    "\n",
    "from nltk.corpus import stopwords\n",
    "from nltk.tokenize import word_tokenize \n",
    "from konlpy.tag import Okt\n",
    "\n",
    "from gensim.models import Word2Vec\n",
    "from gensim.models import KeyedVectors\n",
    "\n",
    "from networkx.algorithms.community import greedy_modularity_communities\n",
    "from sklearn.metrics.pairwise import cosine_similarity\n",
    "import networkx as nx"
   ]
  },
  {
   "cell_type": "code",
   "execution_count": 2,
   "id": "b966252b",
   "metadata": {},
   "outputs": [],
   "source": [
    "t = pd.read_csv('./Data/Preprocess_Data/Abstract3.csv')\n",
    "words_data = pd.read_csv('./Data/Preprocess_Data/final_words.csv')"
   ]
  },
  {
   "cell_type": "code",
   "execution_count": 7,
   "id": "61966452",
   "metadata": {},
   "outputs": [],
   "source": [
    "t2 = t[t['Year']>=2014]"
   ]
  },
  {
   "cell_type": "code",
   "execution_count": 3,
   "id": "09b11ba2",
   "metadata": {},
   "outputs": [
    {
     "data": {
      "text/html": [
       "<div>\n",
       "<style scoped>\n",
       "    .dataframe tbody tr th:only-of-type {\n",
       "        vertical-align: middle;\n",
       "    }\n",
       "\n",
       "    .dataframe tbody tr th {\n",
       "        vertical-align: top;\n",
       "    }\n",
       "\n",
       "    .dataframe thead th {\n",
       "        text-align: right;\n",
       "    }\n",
       "</style>\n",
       "<table border=\"1\" class=\"dataframe\">\n",
       "  <thead>\n",
       "    <tr style=\"text-align: right;\">\n",
       "      <th></th>\n",
       "      <th>word</th>\n",
       "      <th>word2</th>\n",
       "      <th>length</th>\n",
       "    </tr>\n",
       "  </thead>\n",
       "  <tbody>\n",
       "    <tr>\n",
       "      <th>0</th>\n",
       "      <td>bidirectional encoder representations from tra...</td>\n",
       "      <td>bidirectional_encoder_representations_from_tra...</td>\n",
       "      <td>55</td>\n",
       "    </tr>\n",
       "    <tr>\n",
       "      <th>1</th>\n",
       "      <td>bidirectional encoder representations from tra...</td>\n",
       "      <td>bidirectional_encoder_representations_from_tra...</td>\n",
       "      <td>54</td>\n",
       "    </tr>\n",
       "    <tr>\n",
       "      <th>2</th>\n",
       "      <td>deep convolutional generative adversarial network</td>\n",
       "      <td>deep_convolutional_generative_adversarial_network</td>\n",
       "      <td>49</td>\n",
       "    </tr>\n",
       "    <tr>\n",
       "      <th>3</th>\n",
       "      <td>contrast limited adaptive histogram equalization</td>\n",
       "      <td>contrast_limited_adaptive_histogram_equalization</td>\n",
       "      <td>48</td>\n",
       "    </tr>\n",
       "    <tr>\n",
       "      <th>4</th>\n",
       "      <td>covariance matrix adaptation evolution strategy</td>\n",
       "      <td>covariance_matrix_adaptation_evolution_strategy</td>\n",
       "      <td>47</td>\n",
       "    </tr>\n",
       "  </tbody>\n",
       "</table>\n",
       "</div>"
      ],
      "text/plain": [
       "                                                word  \\\n",
       "0  bidirectional encoder representations from tra...   \n",
       "1  bidirectional encoder representations from tra...   \n",
       "2  deep convolutional generative adversarial network   \n",
       "3   contrast limited adaptive histogram equalization   \n",
       "4    covariance matrix adaptation evolution strategy   \n",
       "\n",
       "                                               word2  length  \n",
       "0  bidirectional_encoder_representations_from_tra...      55  \n",
       "1  bidirectional_encoder_representations_from_tra...      54  \n",
       "2  deep_convolutional_generative_adversarial_network      49  \n",
       "3   contrast_limited_adaptive_histogram_equalization      48  \n",
       "4    covariance_matrix_adaptation_evolution_strategy      47  "
      ]
     },
     "execution_count": 3,
     "metadata": {},
     "output_type": "execute_result"
    }
   ],
   "source": [
    "words_data.head()"
   ]
  },
  {
   "cell_type": "markdown",
   "id": "7350bdaa",
   "metadata": {},
   "source": [
    "- 단어전처리는 이미 되서 패스"
   ]
  },
  {
   "cell_type": "code",
   "execution_count": 7,
   "id": "bc3586e3",
   "metadata": {},
   "outputs": [
    {
     "data": {
      "text/plain": [
       "9187"
      ]
     },
     "execution_count": 7,
     "metadata": {},
     "output_type": "execute_result"
    }
   ],
   "source": [
    "words_data = words_data[words_data['제거']!='x']\n",
    "words_data.reset_index(drop=True, inplace=True)\n",
    "words_data.drop('제거',axis=1, inplace=True)\n",
    "len(words_data)"
   ]
  },
  {
   "cell_type": "code",
   "execution_count": 89,
   "id": "a54def50",
   "metadata": {},
   "outputs": [],
   "source": [
    "# 양쪽 공백 제거\n",
    "words_data['word'] = words_data['word'].str.strip()"
   ]
  },
  {
   "cell_type": "code",
   "execution_count": 90,
   "id": "99c9b31f",
   "metadata": {},
   "outputs": [],
   "source": [
    "# words_data에 공백을 언더바(_)로 대체\n",
    "words_data['word2'] = 0\n",
    "for i in range(len(words_data)):\n",
    "    if len(str(words_data['word'][i]).split(' ')) >1:\n",
    "        words_data['word2'][i] = words_data['word'][i].replace(' ','_')\n",
    "    else:\n",
    "        words_data['word2'][i] = words_data['word'][i]"
   ]
  },
  {
   "cell_type": "code",
   "execution_count": 91,
   "id": "684f48fc",
   "metadata": {},
   "outputs": [],
   "source": [
    "words_data['length'] = 0\n",
    "for i in range(len(words_data)):\n",
    "    words_data['length'][i] = len(str(words_data['word'][i]))"
   ]
  },
  {
   "cell_type": "code",
   "execution_count": 92,
   "id": "02ead157",
   "metadata": {},
   "outputs": [
    {
     "data": {
      "text/html": [
       "<div>\n",
       "<style scoped>\n",
       "    .dataframe tbody tr th:only-of-type {\n",
       "        vertical-align: middle;\n",
       "    }\n",
       "\n",
       "    .dataframe tbody tr th {\n",
       "        vertical-align: top;\n",
       "    }\n",
       "\n",
       "    .dataframe thead th {\n",
       "        text-align: right;\n",
       "    }\n",
       "</style>\n",
       "<table border=\"1\" class=\"dataframe\">\n",
       "  <thead>\n",
       "    <tr style=\"text-align: right;\">\n",
       "      <th></th>\n",
       "      <th>word</th>\n",
       "      <th>count</th>\n",
       "      <th>word2</th>\n",
       "      <th>length</th>\n",
       "    </tr>\n",
       "  </thead>\n",
       "  <tbody>\n",
       "    <tr>\n",
       "      <th>0</th>\n",
       "      <td>bidirectional encoder representations from tra...</td>\n",
       "      <td>24</td>\n",
       "      <td>bidirectional_encoder_representations_from_tra...</td>\n",
       "      <td>54</td>\n",
       "    </tr>\n",
       "    <tr>\n",
       "      <th>1</th>\n",
       "      <td>deep convolutional generative adversarial network</td>\n",
       "      <td>31</td>\n",
       "      <td>deep_convolutional_generative_adversarial_network</td>\n",
       "      <td>49</td>\n",
       "    </tr>\n",
       "    <tr>\n",
       "      <th>2</th>\n",
       "      <td>contrast limited adaptive histogram equalization</td>\n",
       "      <td>32</td>\n",
       "      <td>contrast_limited_adaptive_histogram_equalization</td>\n",
       "      <td>48</td>\n",
       "    </tr>\n",
       "    <tr>\n",
       "      <th>3</th>\n",
       "      <td>covariance matrix adaptation evolution strategy</td>\n",
       "      <td>25</td>\n",
       "      <td>covariance_matrix_adaptation_evolution_strategy</td>\n",
       "      <td>47</td>\n",
       "    </tr>\n",
       "    <tr>\n",
       "      <th>4</th>\n",
       "      <td>ciphertext policy attribute based encryption</td>\n",
       "      <td>69</td>\n",
       "      <td>ciphertext_policy_attribute_based_encryption</td>\n",
       "      <td>44</td>\n",
       "    </tr>\n",
       "  </tbody>\n",
       "</table>\n",
       "</div>"
      ],
      "text/plain": [
       "                                                word  count  \\\n",
       "0  bidirectional encoder representations from tra...     24   \n",
       "1  deep convolutional generative adversarial network     31   \n",
       "2   contrast limited adaptive histogram equalization     32   \n",
       "3    covariance matrix adaptation evolution strategy     25   \n",
       "4       ciphertext policy attribute based encryption     69   \n",
       "\n",
       "                                               word2  length  \n",
       "0  bidirectional_encoder_representations_from_tra...      54  \n",
       "1  deep_convolutional_generative_adversarial_network      49  \n",
       "2   contrast_limited_adaptive_histogram_equalization      48  \n",
       "3    covariance_matrix_adaptation_evolution_strategy      47  \n",
       "4       ciphertext_policy_attribute_based_encryption      44  "
      ]
     },
     "execution_count": 92,
     "metadata": {},
     "output_type": "execute_result"
    }
   ],
   "source": [
    "# length에 따라 정렬 (변환이 제대로 되지 않는 것 방지)\n",
    "words_data.sort_values(by='length', ascending=False, inplace=True)\n",
    "words_data.reset_index(drop=True, inplace=True)\n",
    "words_data.head()"
   ]
  },
  {
   "cell_type": "code",
   "execution_count": 93,
   "id": "13ba4a8a",
   "metadata": {},
   "outputs": [],
   "source": [
    "# 중복되는 값 중 첫번째만 남기고 제거\n",
    "words_data.drop_duplicates(subset='word2', keep='first', inplace=True)"
   ]
  },
  {
   "cell_type": "code",
   "execution_count": 94,
   "id": "ac8572c5",
   "metadata": {},
   "outputs": [
    {
     "data": {
      "text/plain": [
       "9155"
      ]
     },
     "execution_count": 94,
     "metadata": {},
     "output_type": "execute_result"
    }
   ],
   "source": [
    "len(words_data)"
   ]
  },
  {
   "cell_type": "code",
   "execution_count": 5,
   "id": "d3b6be34",
   "metadata": {},
   "outputs": [
    {
     "data": {
      "text/html": [
       "<div>\n",
       "<style scoped>\n",
       "    .dataframe tbody tr th:only-of-type {\n",
       "        vertical-align: middle;\n",
       "    }\n",
       "\n",
       "    .dataframe tbody tr th {\n",
       "        vertical-align: top;\n",
       "    }\n",
       "\n",
       "    .dataframe thead th {\n",
       "        text-align: right;\n",
       "    }\n",
       "</style>\n",
       "<table border=\"1\" class=\"dataframe\">\n",
       "  <thead>\n",
       "    <tr style=\"text-align: right;\">\n",
       "      <th></th>\n",
       "      <th>Unnamed: 0</th>\n",
       "      <th>Year</th>\n",
       "      <th>Abstract3</th>\n",
       "    </tr>\n",
       "  </thead>\n",
       "  <tbody>\n",
       "    <tr>\n",
       "      <th>0</th>\n",
       "      <td>0</td>\n",
       "      <td>2013</td>\n",
       "      <td>a method for peer to peer streaming of video o...</td>\n",
       "    </tr>\n",
       "    <tr>\n",
       "      <th>1</th>\n",
       "      <td>1</td>\n",
       "      <td>2013</td>\n",
       "      <td>in this paper we discus the bacterial network ...</td>\n",
       "    </tr>\n",
       "    <tr>\n",
       "      <th>2</th>\n",
       "      <td>2</td>\n",
       "      <td>2013</td>\n",
       "      <td>this article treat a digital humanity work in ...</td>\n",
       "    </tr>\n",
       "    <tr>\n",
       "      <th>3</th>\n",
       "      <td>3</td>\n",
       "      <td>2013</td>\n",
       "      <td>this work describes preliminary step towards n...</td>\n",
       "    </tr>\n",
       "    <tr>\n",
       "      <th>4</th>\n",
       "      <td>4</td>\n",
       "      <td>2013</td>\n",
       "      <td>goal extraction in learning by demonstration i...</td>\n",
       "    </tr>\n",
       "  </tbody>\n",
       "</table>\n",
       "</div>"
      ],
      "text/plain": [
       "   Unnamed: 0  Year                                          Abstract3\n",
       "0           0  2013  a method for peer to peer streaming of video o...\n",
       "1           1  2013  in this paper we discus the bacterial network ...\n",
       "2           2  2013  this article treat a digital humanity work in ...\n",
       "3           3  2013  this work describes preliminary step towards n...\n",
       "4           4  2013  goal extraction in learning by demonstration i..."
      ]
     },
     "execution_count": 5,
     "metadata": {},
     "output_type": "execute_result"
    }
   ],
   "source": [
    "t.head()"
   ]
  },
  {
   "cell_type": "code",
   "execution_count": 8,
   "id": "8cfd67bf",
   "metadata": {},
   "outputs": [
    {
     "data": {
      "text/html": [
       "<div>\n",
       "<style scoped>\n",
       "    .dataframe tbody tr th:only-of-type {\n",
       "        vertical-align: middle;\n",
       "    }\n",
       "\n",
       "    .dataframe tbody tr th {\n",
       "        vertical-align: top;\n",
       "    }\n",
       "\n",
       "    .dataframe thead th {\n",
       "        text-align: right;\n",
       "    }\n",
       "</style>\n",
       "<table border=\"1\" class=\"dataframe\">\n",
       "  <thead>\n",
       "    <tr style=\"text-align: right;\">\n",
       "      <th></th>\n",
       "      <th>Unnamed: 0</th>\n",
       "      <th>Year</th>\n",
       "      <th>Abstract3</th>\n",
       "    </tr>\n",
       "  </thead>\n",
       "  <tbody>\n",
       "    <tr>\n",
       "      <th>38385</th>\n",
       "      <td>38385</td>\n",
       "      <td>2017</td>\n",
       "      <td>the qrs complex detection method have been ext...</td>\n",
       "    </tr>\n",
       "    <tr>\n",
       "      <th>38386</th>\n",
       "      <td>38386</td>\n",
       "      <td>2017</td>\n",
       "      <td>in this paper we study the problem of moving_t...</td>\n",
       "    </tr>\n",
       "    <tr>\n",
       "      <th>38387</th>\n",
       "      <td>38387</td>\n",
       "      <td>2017</td>\n",
       "      <td>objective using the fusion algorithm of edge_d...</td>\n",
       "    </tr>\n",
       "    <tr>\n",
       "      <th>38388</th>\n",
       "      <td>38388</td>\n",
       "      <td>2017</td>\n",
       "      <td>in view of the special condition of gas draina...</td>\n",
       "    </tr>\n",
       "    <tr>\n",
       "      <th>38389</th>\n",
       "      <td>38389</td>\n",
       "      <td>2017</td>\n",
       "      <td>this paper propose a trajectory tracking contr...</td>\n",
       "    </tr>\n",
       "  </tbody>\n",
       "</table>\n",
       "</div>"
      ],
      "text/plain": [
       "       Unnamed: 0  Year                                          Abstract3\n",
       "38385       38385  2017  the qrs complex detection method have been ext...\n",
       "38386       38386  2017  in this paper we study the problem of moving_t...\n",
       "38387       38387  2017  objective using the fusion algorithm of edge_d...\n",
       "38388       38388  2017  in view of the special condition of gas draina...\n",
       "38389       38389  2017  this paper propose a trajectory tracking contr..."
      ]
     },
     "execution_count": 8,
     "metadata": {},
     "output_type": "execute_result"
    }
   ],
   "source": [
    "t2.head()"
   ]
  },
  {
   "cell_type": "markdown",
   "id": "eed91413",
   "metadata": {},
   "source": [
    "# 워드투벡"
   ]
  },
  {
   "cell_type": "code",
   "execution_count": 9,
   "id": "42158586",
   "metadata": {},
   "outputs": [],
   "source": [
    "t2['tokens2'] = t2['Abstract3'].apply(lambda x: [word for word in word_tokenize(x)])\n",
    "sentences = t2['tokens2'].tolist()"
   ]
  },
  {
   "cell_type": "code",
   "execution_count": 98,
   "id": "22ab11b7",
   "metadata": {},
   "outputs": [
    {
     "data": {
      "text/plain": [
       "False"
      ]
     },
     "execution_count": 98,
     "metadata": {},
     "output_type": "execute_result"
    }
   ],
   "source": [
    "'game_ais' in sentences"
   ]
  },
  {
   "cell_type": "code",
   "execution_count": 10,
   "id": "e0b0714c",
   "metadata": {},
   "outputs": [],
   "source": [
    "# Word2Vec 모델 학습\n",
    "model = Word2Vec(sentences, min_count=1)\n",
    "\n",
    "# 단어 벡터 확인\n",
    "word_vectors = model.wv"
   ]
  },
  {
   "cell_type": "code",
   "execution_count": 11,
   "id": "60955166",
   "metadata": {},
   "outputs": [],
   "source": [
    "# 결과 저장\n",
    "model.save(\"notyear_w2v.model\")"
   ]
  },
  {
   "cell_type": "code",
   "execution_count": null,
   "id": "351de218",
   "metadata": {},
   "outputs": [],
   "source": []
  },
  {
   "cell_type": "markdown",
   "id": "0eb5319a",
   "metadata": {},
   "source": [
    "# 해당되는 단어들만 남기기"
   ]
  },
  {
   "cell_type": "code",
   "execution_count": 12,
   "id": "a59accd6",
   "metadata": {},
   "outputs": [],
   "source": [
    "# list 칼럼의 단어들을 분리하여 리스트로 변환\n",
    "word_lists = t2['Abstract3'].str.split()"
   ]
  },
  {
   "cell_type": "code",
   "execution_count": 13,
   "id": "6f155a84",
   "metadata": {},
   "outputs": [
    {
     "data": {
      "text/plain": [
       "38385      [the, qrs, complex, detection, method, have, b...\n",
       "38386      [in, this, paper, we, study, the, problem, of,...\n",
       "38387      [objective, using, the, fusion, algorithm, of,...\n",
       "38388      [in, view, of, the, special, condition, of, ga...\n",
       "38389      [this, paper, propose, a, trajectory, tracking...\n",
       "                                 ...                        \n",
       "2267158    [human, centered, development, of, information...\n",
       "2267159    [the, computing, device, in, cloud, or, fog, d...\n",
       "2267160    [mobile, technology, are, becoming, more, and,...\n",
       "2267161    [development, of, intelligent, system, with, t...\n",
       "2267162    [in, this, paper, we, gauge, the, utility, of,...\n",
       "Name: Abstract3, Length: 1275504, dtype: object"
      ]
     },
     "execution_count": 13,
     "metadata": {},
     "output_type": "execute_result"
    }
   ],
   "source": [
    "word_lists"
   ]
  },
  {
   "cell_type": "code",
   "execution_count": 14,
   "id": "4559e9ca",
   "metadata": {},
   "outputs": [],
   "source": [
    "# 단어 집합을 집합(Set)으로 변환하여 탐색 시간을 단축\n",
    "words_subset = set(words_data['word2'])"
   ]
  },
  {
   "cell_type": "code",
   "execution_count": 15,
   "id": "db2993fb",
   "metadata": {},
   "outputs": [
    {
     "data": {
      "text/plain": [
       "9121"
      ]
     },
     "execution_count": 15,
     "metadata": {},
     "output_type": "execute_result"
    }
   ],
   "source": [
    "len(words_subset)"
   ]
  },
  {
   "cell_type": "code",
   "execution_count": 104,
   "id": "e05d5f78",
   "metadata": {},
   "outputs": [
    {
     "data": {
      "text/plain": [
       "False"
      ]
     },
     "execution_count": 104,
     "metadata": {},
     "output_type": "execute_result"
    }
   ],
   "source": [
    "'game_ais' in words_subset"
   ]
  },
  {
   "cell_type": "markdown",
   "id": "36c9c70a",
   "metadata": {},
   "source": [
    "- 여기까지는 코드 돌리는데 이상 없음"
   ]
  },
  {
   "cell_type": "code",
   "execution_count": null,
   "id": "565bcbbc",
   "metadata": {},
   "outputs": [],
   "source": []
  },
  {
   "cell_type": "code",
   "execution_count": 16,
   "id": "162558f4",
   "metadata": {},
   "outputs": [],
   "source": [
    "# 정규식 패턴을 미리 생성하여 반복문 내에서 재사용\n",
    "pattern = re.compile(r'\\b({})\\b'.format('|'.join(map(re.escape, words_subset))))"
   ]
  },
  {
   "cell_type": "code",
   "execution_count": 17,
   "id": "e1c97ab7",
   "metadata": {},
   "outputs": [
    {
     "name": "stderr",
     "output_type": "stream",
     "text": [
      "100%|██████████████████████████████| 1275504/1275504 [2:06:07<00:00, 168.55it/s]\n"
     ]
    }
   ],
   "source": [
    "new_word_lists = []\n",
    "\n",
    "for words in tqdm(word_lists, total=len(t2)):\n",
    "    new_words = []\n",
    "    for word in words:\n",
    "        if pattern.match(word):\n",
    "            new_words.append(word)\n",
    "    new_word_lists.append(new_words)"
   ]
  },
  {
   "cell_type": "code",
   "execution_count": 18,
   "id": "4a0d2501",
   "metadata": {},
   "outputs": [],
   "source": [
    "new_word_strings = [' '.join(word_list) for word_list in new_word_lists]"
   ]
  },
  {
   "cell_type": "code",
   "execution_count": 105,
   "id": "e139ba5a",
   "metadata": {},
   "outputs": [
    {
     "data": {
      "text/plain": [
       "False"
      ]
     },
     "execution_count": 105,
     "metadata": {},
     "output_type": "execute_result"
    }
   ],
   "source": [
    "'game_ais' in new_word_strings"
   ]
  },
  {
   "cell_type": "code",
   "execution_count": 19,
   "id": "3507b033",
   "metadata": {},
   "outputs": [],
   "source": [
    "t2['new_abstract'] = new_word_strings"
   ]
  },
  {
   "cell_type": "code",
   "execution_count": 20,
   "id": "9c75e34c",
   "metadata": {},
   "outputs": [
    {
     "data": {
      "text/plain": [
       "38385                                                       \n",
       "38386      moving_target_detection target_detection backg...\n",
       "38387      edge_detection canny sobel edge_information mi...\n",
       "38388               control image_transmission demonstration\n",
       "38389      control_method backstepping control_system att...\n",
       "                                 ...                        \n",
       "2267158    concept aspect enterprise_architecture enterpr...\n",
       "2267159    cloud data_center cooling_system data_center c...\n",
       "2267160                                                     \n",
       "2267161    abnormal_event degradation anomaly_detection a...\n",
       "2267162         combining approach computational_linguistics\n",
       "Name: new_abstract, Length: 1275504, dtype: object"
      ]
     },
     "execution_count": 20,
     "metadata": {},
     "output_type": "execute_result"
    }
   ],
   "source": [
    "t2['new_abstract']"
   ]
  },
  {
   "cell_type": "code",
   "execution_count": null,
   "id": "1ee5d164",
   "metadata": {},
   "outputs": [],
   "source": []
  },
  {
   "cell_type": "code",
   "execution_count": null,
   "id": "7e8d030a",
   "metadata": {},
   "outputs": [],
   "source": []
  },
  {
   "cell_type": "code",
   "execution_count": 21,
   "id": "f839d1c3",
   "metadata": {},
   "outputs": [],
   "source": [
    "# 불용어 제거\n",
    "\n",
    "t2['new_abstract'] = t2['new_abstract'].astype(str)\n",
    "# new_abstract 칼럼에서 words_subset에 있는 단어들만 남기기\n",
    "t2['new_abstract2'] = t2['new_abstract'].apply(lambda x: ' '.join([word for word in x.split() if word in words_subset]))"
   ]
  },
  {
   "cell_type": "code",
   "execution_count": null,
   "id": "f7e20394",
   "metadata": {},
   "outputs": [],
   "source": [
    "words_subset안에 있는 단어만 남기기"
   ]
  },
  {
   "cell_type": "code",
   "execution_count": 130,
   "id": "5e92e4bd",
   "metadata": {},
   "outputs": [
    {
     "data": {
      "text/plain": [
       "'automation facility automation drone calibration mobile_robot calibration thermal_camera lidar calibration pose_estimation'"
      ]
     },
     "execution_count": 130,
     "metadata": {},
     "output_type": "execute_result"
    }
   ],
   "source": [
    "t2['new_abstract2'][0]"
   ]
  },
  {
   "cell_type": "code",
   "execution_count": 22,
   "id": "8811b90b",
   "metadata": {},
   "outputs": [
    {
     "name": "stderr",
     "output_type": "stream",
     "text": [
      "100%|█████████████████████████████| 1275504/1275504 [00:02<00:00, 577802.70it/s]\n"
     ]
    }
   ],
   "source": [
    "replacement_dict = {\n",
    "    'ada_boost': 'adaboost',\n",
    "    'zig_bee': 'zigbee',\n",
    "    'optimisation': 'optimization',\n",
    "    'neural_networks': 'neural_network',\n",
    "    'audiovisual': 'audio_visual',\n",
    "    'authorisation': 'authorization',\n",
    "    'chatbots': 'chatbot',\n",
    "    'conceptualisation': 'conceptualization'\n",
    "}\n",
    "\n",
    "def replace_words(text):\n",
    "    for old_word, new_word in replacement_dict.items():\n",
    "        text = text.replace(old_word, new_word)\n",
    "    return text\n",
    "\n",
    "tqdm.pandas()  # tqdm을 사용하기 위해 pandas에 연결\n",
    "\n",
    "t2['new_abstract2'] = t2['new_abstract2'].progress_apply(replace_words)"
   ]
  },
  {
   "cell_type": "code",
   "execution_count": 132,
   "id": "880b3bcc",
   "metadata": {},
   "outputs": [
    {
     "data": {
      "text/plain": [
       "[('deep_learning', 0.8397312164306641),\n",
       " ('ml', 0.838851809501648),\n",
       " ('data_mining', 0.7515307068824768),\n",
       " ('machine_learning_technique', 0.7492014169692993),\n",
       " ('natural_language_processing', 0.7145198583602905),\n",
       " ('artificial_intelligence', 0.7053048610687256),\n",
       " ('ml/dl', 0.6955404877662659),\n",
       " ('dl', 0.6886632442474365),\n",
       " ('nlp', 0.6710163354873657),\n",
       " ('machine_learning_method', 0.6675263047218323),\n",
       " ('explainable_artificial_intelligence', 0.6571083664894104),\n",
       " ('computer_vision', 0.6511135697364807),\n",
       " ('deep_neural_network', 0.6508054733276367),\n",
       " ('artificial_neural_network', 0.6431666612625122),\n",
       " ('ai', 0.6407159566879272),\n",
       " ('machine_learning_approach', 0.6396990418434143),\n",
       " ('explainable_ai', 0.6375511288642883),\n",
       " ('ai/ml', 0.6264525651931763),\n",
       " ('data_science', 0.6250278353691101),\n",
       " ('automated_machine_learning', 0.6075279712677002)]"
      ]
     },
     "execution_count": 132,
     "metadata": {},
     "output_type": "execute_result"
    }
   ],
   "source": [
    "model.wv.most_similar('machine_learning', topn=20)"
   ]
  },
  {
   "cell_type": "markdown",
   "id": "1e187210",
   "metadata": {},
   "source": [
    "# 그리디 알고리즘\n",
    "\n",
    "### (1) 코사인 유사도"
   ]
  },
  {
   "cell_type": "code",
   "execution_count": 23,
   "id": "7fea9130",
   "metadata": {},
   "outputs": [
    {
     "data": {
      "text/html": [
       "<div>\n",
       "<style scoped>\n",
       "    .dataframe tbody tr th:only-of-type {\n",
       "        vertical-align: middle;\n",
       "    }\n",
       "\n",
       "    .dataframe tbody tr th {\n",
       "        vertical-align: top;\n",
       "    }\n",
       "\n",
       "    .dataframe thead th {\n",
       "        text-align: right;\n",
       "    }\n",
       "</style>\n",
       "<table border=\"1\" class=\"dataframe\">\n",
       "  <thead>\n",
       "    <tr style=\"text-align: right;\">\n",
       "      <th></th>\n",
       "      <th>Unnamed: 0</th>\n",
       "      <th>Year</th>\n",
       "      <th>Abstract3</th>\n",
       "      <th>tokens2</th>\n",
       "      <th>new_abstract</th>\n",
       "      <th>new_abstract2</th>\n",
       "    </tr>\n",
       "  </thead>\n",
       "  <tbody>\n",
       "    <tr>\n",
       "      <th>38385</th>\n",
       "      <td>38385</td>\n",
       "      <td>2017</td>\n",
       "      <td>the qrs complex detection method have been ext...</td>\n",
       "      <td>[the, qrs, complex, detection, method, have, b...</td>\n",
       "      <td></td>\n",
       "      <td></td>\n",
       "    </tr>\n",
       "    <tr>\n",
       "      <th>38386</th>\n",
       "      <td>38386</td>\n",
       "      <td>2017</td>\n",
       "      <td>in this paper we study the problem of moving_t...</td>\n",
       "      <td>[in, this, paper, we, study, the, problem, of,...</td>\n",
       "      <td>moving_target_detection target_detection backg...</td>\n",
       "      <td>moving_target_detection target_detection backg...</td>\n",
       "    </tr>\n",
       "    <tr>\n",
       "      <th>38387</th>\n",
       "      <td>38387</td>\n",
       "      <td>2017</td>\n",
       "      <td>objective using the fusion algorithm of edge_d...</td>\n",
       "      <td>[objective, using, the, fusion, algorithm, of,...</td>\n",
       "      <td>edge_detection canny sobel edge_information mi...</td>\n",
       "      <td>edge_detection canny sobel edge_information mi...</td>\n",
       "    </tr>\n",
       "    <tr>\n",
       "      <th>38388</th>\n",
       "      <td>38388</td>\n",
       "      <td>2017</td>\n",
       "      <td>in view of the special condition of gas draina...</td>\n",
       "      <td>[in, view, of, the, special, condition, of, ga...</td>\n",
       "      <td>control image_transmission demonstration</td>\n",
       "      <td>control image_transmission demonstration</td>\n",
       "    </tr>\n",
       "    <tr>\n",
       "      <th>38389</th>\n",
       "      <td>38389</td>\n",
       "      <td>2017</td>\n",
       "      <td>this paper propose a trajectory tracking contr...</td>\n",
       "      <td>[this, paper, propose, a, trajectory, tracking...</td>\n",
       "      <td>control_method backstepping control_system att...</td>\n",
       "      <td>control_method backstepping control_system att...</td>\n",
       "    </tr>\n",
       "  </tbody>\n",
       "</table>\n",
       "</div>"
      ],
      "text/plain": [
       "       Unnamed: 0  Year                                          Abstract3  \\\n",
       "38385       38385  2017  the qrs complex detection method have been ext...   \n",
       "38386       38386  2017  in this paper we study the problem of moving_t...   \n",
       "38387       38387  2017  objective using the fusion algorithm of edge_d...   \n",
       "38388       38388  2017  in view of the special condition of gas draina...   \n",
       "38389       38389  2017  this paper propose a trajectory tracking contr...   \n",
       "\n",
       "                                                 tokens2  \\\n",
       "38385  [the, qrs, complex, detection, method, have, b...   \n",
       "38386  [in, this, paper, we, study, the, problem, of,...   \n",
       "38387  [objective, using, the, fusion, algorithm, of,...   \n",
       "38388  [in, view, of, the, special, condition, of, ga...   \n",
       "38389  [this, paper, propose, a, trajectory, tracking...   \n",
       "\n",
       "                                            new_abstract  \\\n",
       "38385                                                      \n",
       "38386  moving_target_detection target_detection backg...   \n",
       "38387  edge_detection canny sobel edge_information mi...   \n",
       "38388           control image_transmission demonstration   \n",
       "38389  control_method backstepping control_system att...   \n",
       "\n",
       "                                           new_abstract2  \n",
       "38385                                                     \n",
       "38386  moving_target_detection target_detection backg...  \n",
       "38387  edge_detection canny sobel edge_information mi...  \n",
       "38388           control image_transmission demonstration  \n",
       "38389  control_method backstepping control_system att...  "
      ]
     },
     "execution_count": 23,
     "metadata": {},
     "output_type": "execute_result"
    }
   ],
   "source": [
    "t2.head()"
   ]
  },
  {
   "cell_type": "code",
   "execution_count": 24,
   "id": "e110526b",
   "metadata": {},
   "outputs": [],
   "source": [
    "t2.drop(['Unnamed: 0'],axis=1, inplace=True)"
   ]
  },
  {
   "cell_type": "code",
   "execution_count": 25,
   "id": "9949caf7",
   "metadata": {},
   "outputs": [
    {
     "data": {
      "text/html": [
       "<div>\n",
       "<style scoped>\n",
       "    .dataframe tbody tr th:only-of-type {\n",
       "        vertical-align: middle;\n",
       "    }\n",
       "\n",
       "    .dataframe tbody tr th {\n",
       "        vertical-align: top;\n",
       "    }\n",
       "\n",
       "    .dataframe thead th {\n",
       "        text-align: right;\n",
       "    }\n",
       "</style>\n",
       "<table border=\"1\" class=\"dataframe\">\n",
       "  <thead>\n",
       "    <tr style=\"text-align: right;\">\n",
       "      <th></th>\n",
       "      <th>Year</th>\n",
       "      <th>Abstract3</th>\n",
       "      <th>tokens2</th>\n",
       "      <th>new_abstract</th>\n",
       "      <th>new_abstract2</th>\n",
       "    </tr>\n",
       "  </thead>\n",
       "  <tbody>\n",
       "    <tr>\n",
       "      <th>38385</th>\n",
       "      <td>2017</td>\n",
       "      <td>the qrs complex detection method have been ext...</td>\n",
       "      <td>[the, qrs, complex, detection, method, have, b...</td>\n",
       "      <td></td>\n",
       "      <td></td>\n",
       "    </tr>\n",
       "    <tr>\n",
       "      <th>38386</th>\n",
       "      <td>2017</td>\n",
       "      <td>in this paper we study the problem of moving_t...</td>\n",
       "      <td>[in, this, paper, we, study, the, problem, of,...</td>\n",
       "      <td>moving_target_detection target_detection backg...</td>\n",
       "      <td>moving_target_detection target_detection backg...</td>\n",
       "    </tr>\n",
       "  </tbody>\n",
       "</table>\n",
       "</div>"
      ],
      "text/plain": [
       "       Year                                          Abstract3  \\\n",
       "38385  2017  the qrs complex detection method have been ext...   \n",
       "38386  2017  in this paper we study the problem of moving_t...   \n",
       "\n",
       "                                                 tokens2  \\\n",
       "38385  [the, qrs, complex, detection, method, have, b...   \n",
       "38386  [in, this, paper, we, study, the, problem, of,...   \n",
       "\n",
       "                                            new_abstract  \\\n",
       "38385                                                      \n",
       "38386  moving_target_detection target_detection backg...   \n",
       "\n",
       "                                           new_abstract2  \n",
       "38385                                                     \n",
       "38386  moving_target_detection target_detection backg...  "
      ]
     },
     "execution_count": 25,
     "metadata": {},
     "output_type": "execute_result"
    }
   ],
   "source": [
    "t2.head(2)"
   ]
  },
  {
   "cell_type": "code",
   "execution_count": 26,
   "id": "2f156b27",
   "metadata": {},
   "outputs": [],
   "source": [
    "t2['tokens2'] = t2['new_abstract2'].astype(str).apply(lambda x: word_tokenize(x))\n",
    "t2['tokens2'] = t2['tokens2'].apply(lambda tokens: [token for token in tokens if token != ','])"
   ]
  },
  {
   "cell_type": "code",
   "execution_count": 27,
   "id": "8f224707",
   "metadata": {},
   "outputs": [
    {
     "name": "stderr",
     "output_type": "stream",
     "text": [
      "Processing sentences: 100%|██████| 1275504/1275504 [00:00<00:00, 3657580.48it/s]\n"
     ]
    }
   ],
   "source": [
    "sentences = t2['tokens2'].tolist()\n",
    "sentences = [sentence for sentence in tqdm(sentences, desc=\"Processing sentences\")]"
   ]
  },
  {
   "cell_type": "code",
   "execution_count": 28,
   "id": "5eba615a",
   "metadata": {},
   "outputs": [],
   "source": [
    "sentences_flat = [word for sentence in sentences for word in sentence]\n",
    "sentences_flat = list(set(sentences_flat))"
   ]
  },
  {
   "cell_type": "code",
   "execution_count": 29,
   "id": "0a6700a5",
   "metadata": {},
   "outputs": [
    {
     "data": {
      "text/plain": [
       "9025"
      ]
     },
     "execution_count": 29,
     "metadata": {},
     "output_type": "execute_result"
    }
   ],
   "source": [
    "len(sentences_flat)"
   ]
  },
  {
   "cell_type": "code",
   "execution_count": 30,
   "id": "d5462b20",
   "metadata": {},
   "outputs": [],
   "source": [
    "# 주어진 단어들에 대한 Word2Vec 결과 벡터 추출\n",
    "word_vecs = [word_vectors[word] for word in sentences_flat]\n",
    "# 모든 단어 쌍의 코사인 유사도 계산\n",
    "similarity_matrix = cosine_similarity(word_vecs)\n",
    "\n",
    "# 대각선을 0으로 설정\n",
    "np.fill_diagonal(similarity_matrix, 0)\n",
    "\n",
    "\n",
    "# 결과를 DataFrame으로 변환\n",
    "similarity_df = pd.DataFrame(similarity_matrix, index=sentences_flat, columns=sentences_flat)"
   ]
  },
  {
   "cell_type": "code",
   "execution_count": 31,
   "id": "92425341",
   "metadata": {},
   "outputs": [
    {
     "name": "stdout",
     "output_type": "stream",
     "text": [
      "Ratio above threshold (0.5): 0.011045022674779966\n"
     ]
    }
   ],
   "source": [
    "threshold = 0.5\n",
    "\n",
    "above_threshold = np.sum(similarity_matrix >= threshold)\n",
    "total_elements = np.prod(similarity_matrix.shape)\n",
    "ratio = above_threshold / total_elements\n",
    "\n",
    "print(f\"Ratio above threshold ({threshold}): {ratio}\")"
   ]
  },
  {
   "cell_type": "code",
   "execution_count": null,
   "id": "67cdcbda",
   "metadata": {},
   "outputs": [],
   "source": []
  },
  {
   "cell_type": "markdown",
   "id": "ccf1315d",
   "metadata": {},
   "source": [
    "### (2) 그리디 알고리즘"
   ]
  },
  {
   "cell_type": "code",
   "execution_count": 32,
   "id": "cab48a3c",
   "metadata": {},
   "outputs": [
    {
     "name": "stderr",
     "output_type": "stream",
     "text": [
      "Adding Nodes: 100%|██████████████████████| 9025/9025 [00:00<00:00, 91989.74it/s]\n",
      "Adding Edges: 100%|████████████████████████| 9025/9025 [00:58<00:00, 154.60it/s]\n"
     ]
    }
   ],
   "source": [
    "# 유사성 임계값 설정\n",
    "similarity_threshold = 0.5\n",
    "\n",
    "# 그래프 생성\n",
    "G = nx.Graph()\n",
    "\n",
    "# 논문 추가\n",
    "for i in tqdm(range(len(sentences_flat)), desc=\"Adding Nodes\"):\n",
    "    G.add_node(sentences_flat[i])\n",
    "\n",
    "# 엣지 추가 (유사성 임계값 이상인 경우만)\n",
    "for i in tqdm(range(len(sentences_flat)), desc=\"Adding Edges\"):\n",
    "    for j in range(i+1, len(sentences_flat)):\n",
    "        similarity = similarity_matrix[i, j]\n",
    "        if similarity > similarity_threshold:\n",
    "            G.add_edge(sentences_flat[i], sentences_flat[j], weight=similarity)"
   ]
  },
  {
   "cell_type": "code",
   "execution_count": 33,
   "id": "ba24499c",
   "metadata": {},
   "outputs": [
    {
     "name": "stdout",
     "output_type": "stream",
     "text": [
      "커뮤니티 수: 14\n"
     ]
    }
   ],
   "source": [
    "# 커뮤니티 탐색\n",
    "min_community_size = 2  # 최소 커뮤니티 크기 설정\n",
    "communities = [c for c in greedy_modularity_communities(G, weight='weight') if len(c) >= min_community_size]\n",
    "\n",
    "# 결과 출력\n",
    "print(\"커뮤니티 수:\", len(communities))"
   ]
  },
  {
   "cell_type": "code",
   "execution_count": 34,
   "id": "85f469e8",
   "metadata": {},
   "outputs": [
    {
     "name": "stderr",
     "output_type": "stream",
     "text": [
      "Finding Centroids: 100%|████████████████████████| 14/14 [00:00<00:00, 15.61it/s]\n"
     ]
    }
   ],
   "source": [
    "# 각 커뮤니티의 중심점 찾기\n",
    "centroids = []\n",
    "for community in tqdm(communities, desc=\"Finding Centroids\"):\n",
    "    community_vectors = [word_vectors[word] for word in community if word in word_vectors]\n",
    "    if len(community_vectors) > 0:\n",
    "        community_centroid = sum(community_vectors) / len(community_vectors)\n",
    "        centroids.append(community_centroid)"
   ]
  },
  {
   "cell_type": "code",
   "execution_count": 35,
   "id": "b49e3c6f",
   "metadata": {},
   "outputs": [],
   "source": [
    "G_centroids = nx.Graph()\n",
    "for i in range(len(centroids)):\n",
    "    for j in range(i + 1, len(centroids)):\n",
    "        centroid_i = centroids[i]\n",
    "        centroid_j = centroids[j]\n",
    "        similarity = cosine_similarity([centroid_i], [centroid_j])[0][0]\n",
    "        if similarity > similarity_threshold:\n",
    "            G_centroids.add_edge(f\"Centroid {i+1}\", f\"Centroid {j+1}\", weight=similarity)"
   ]
  },
  {
   "cell_type": "code",
   "execution_count": 36,
   "id": "45e84409",
   "metadata": {},
   "outputs": [],
   "source": [
    "G_edges = G_centroids.edges(data=True)\n",
    "for edge in G_edges:\n",
    "    node1, node2, weight = edge\n",
    "    print(f\"{node1} -- {node2} (Similarity: {weight['weight']})\")"
   ]
  },
  {
   "cell_type": "code",
   "execution_count": 37,
   "id": "b5d6a8b0",
   "metadata": {},
   "outputs": [],
   "source": [
    "import pandas as pd\n",
    "\n",
    "# 데이터프레임 생성\n",
    "community_df = pd.DataFrame(columns=['Word', 'Community'])\n",
    "\n",
    "# 커뮤니티 정보 추가\n",
    "for i, community in enumerate(communities):\n",
    "    for word in community:\n",
    "        community_df = community_df.append({'Word': word, 'Community': f\"Community {i+1}\"}, ignore_index=True)\n"
   ]
  },
  {
   "cell_type": "code",
   "execution_count": 38,
   "id": "bd2781b9",
   "metadata": {},
   "outputs": [
    {
     "data": {
      "image/png": "[encoded data removed]",
      "text/plain": [
       "<Figure size 2000x1500 with 1 Axes>"
      ]
     },
     "metadata": {},
     "output_type": "display_data"
    }
   ],
   "source": [
    "# 그래프 그리기\n",
    "import matplotlib.pyplot as plt\n",
    "fig, ax = plt.subplots(figsize=(20, 15))\n",
    "nx.draw(G_centroids, with_labels=True, ax=ax)\n",
    "plt.title('Paper Abstract Network with Communities')\n",
    "plt.show()"
   ]
  },
  {
   "cell_type": "code",
   "execution_count": 39,
   "id": "557e7ba1",
   "metadata": {},
   "outputs": [],
   "source": [
    "community_df.to_csv('연도안붙이고그리디.csv',encoding='utf-8-sig', index=False)"
   ]
  },
  {
   "cell_type": "code",
   "execution_count": 40,
   "id": "398c9e1d",
   "metadata": {},
   "outputs": [
    {
     "data": {
      "text/plain": [
       "Community 1     4394\n",
       "Community 2     3000\n",
       "Community 3     1092\n",
       "Community 4      250\n",
       "Community 5      182\n",
       "Community 6        3\n",
       "Community 7        2\n",
       "Community 8        2\n",
       "Community 9        2\n",
       "Community 10       2\n",
       "Community 11       2\n",
       "Community 12       2\n",
       "Community 13       2\n",
       "Community 14       2\n",
       "Name: Community, dtype: int64"
      ]
     },
     "execution_count": 40,
     "metadata": {},
     "output_type": "execute_result"
    }
   ],
   "source": [
    "community_df['Community'].value_counts()"
   ]
  },
  {
   "cell_type": "code",
   "execution_count": null,
   "id": "8693d46d",
   "metadata": {},
   "outputs": [],
   "source": []
  },
  {
   "cell_type": "markdown",
   "id": "5f3e2e9f",
   "metadata": {},
   "source": [
    "### (3) Affinity Clustering"
   ]
  },
  {
   "cell_type": "code",
   "execution_count": 41,
   "id": "21ae5851",
   "metadata": {},
   "outputs": [
    {
     "name": "stdout",
     "output_type": "stream",
     "text": [
      "0.5345594\n"
     ]
    }
   ],
   "source": [
    "n = len(community_df)\n",
    "standard = n*(n-1)/2*0.015\n",
    "\n",
    "similarity_array = similarity_matrix.flatten()\n",
    "# similarity_array 정렬\n",
    "sorted_indices = np.argsort(-similarity_array)\n",
    "sorted_similarity = similarity_array[sorted_indices]\n",
    "print(sorted_similarity[int(standard)])"
   ]
  },
  {
   "cell_type": "code",
   "execution_count": 42,
   "id": "105482c2",
   "metadata": {},
   "outputs": [],
   "source": [
    "words = list(community_df['Word'])"
   ]
  },
  {
   "cell_type": "code",
   "execution_count": 43,
   "id": "6bedffc3",
   "metadata": {},
   "outputs": [],
   "source": [
    "# 선택된 단어 벡터를 numpy 배열로 변환합니다.\n",
    "word_vectors_np = np.array([model.wv[word] for word in words])"
   ]
  },
  {
   "cell_type": "code",
   "execution_count": 45,
   "id": "18241b58",
   "metadata": {},
   "outputs": [
    {
     "name": "stdout",
     "output_type": "stream",
     "text": [
      "Estimated number of clusters: 1521\n"
     ]
    }
   ],
   "source": [
    "# AffinityPropagation 알고리즘을 사용하여 클러스터링을 수행합니다.\n",
    "from sklearn.cluster import AffinityPropagation\n",
    "af = AffinityPropagation(damping=0.7)\n",
    "af.fit(word_vectors_np)\n",
    "\n",
    "# 각 단어를 해당하는 클러스터에 할당합니다.\n",
    "word_clusters = {word: af.predict([model.wv[word]])[0] for word in words}\n",
    "\n",
    "n_clusters = len(af.cluster_centers_indices_)\n",
    "print('Estimated number of clusters: %d' % n_clusters)"
   ]
  },
  {
   "cell_type": "code",
   "execution_count": null,
   "id": "0d84be1a",
   "metadata": {},
   "outputs": [],
   "source": [
    "# 데이터프레임 생성\n",
    "df_clusters = pd.DataFrame({'Word': words, 'Cluster': list(word_clusters.values())})"
   ]
  },
  {
   "cell_type": "code",
   "execution_count": null,
   "id": "c96a830a",
   "metadata": {},
   "outputs": [],
   "source": [
    "df_clusters['Cluster'].value_counts()"
   ]
  },
  {
   "cell_type": "code",
   "execution_count": null,
   "id": "ac64e5b7",
   "metadata": {},
   "outputs": [],
   "source": [
    "t2 = t2[['Year','Abstract3','new_abstract2']]"
   ]
  },
  {
   "cell_type": "code",
   "execution_count": null,
   "id": "b5baab42",
   "metadata": {},
   "outputs": [],
   "source": [
    "t2.head()"
   ]
  },
  {
   "cell_type": "code",
   "execution_count": null,
   "id": "454187d0",
   "metadata": {},
   "outputs": [],
   "source": [
    "t2.to_csv('연도안붙인abstracts.csv', encoding='utf-8-sig')"
   ]
  }
 ],
 "metadata": {
  "kernelspec": {
   "display_name": "Python 3 (ipykernel)",
   "language": "python",
   "name": "python3"
  },
  "language_info": {
   "codemirror_mode": {
    "name": "ipython",
    "version": 3
   },
   "file_extension": ".py",
   "mimetype": "text/x-python",
   "name": "python",
   "nbconvert_exporter": "python",
   "pygments_lexer": "ipython3",
   "version": "3.8.5"
  }
 },
 "nbformat": 4,
 "nbformat_minor": 5
}
