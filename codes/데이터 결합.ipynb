{
 "cells": [
  {
   "cell_type": "code",
   "execution_count": 1,
   "id": "fd606793",
   "metadata": {},
   "outputs": [],
   "source": [
    "import pandas as pd\n",
    "import numpy as np\n",
    "import os\n",
    "from tqdm import tqdm"
   ]
  },
  {
   "cell_type": "code",
   "execution_count": 44,
   "id": "ffc8970c",
   "metadata": {},
   "outputs": [],
   "source": [
    "df1 = pd.read_csv('./Data/Preprocess_Data/추출본(~1000000).csv')\n",
    "df2 = pd.read_csv('./Data/Preprocess_Data/추출본(1000000~1100000).csv')\n",
    "df3 = pd.read_csv('./Data/Preprocess_Data/추출본(1100000~1300000).csv')\n",
    "df4 = pd.read_csv('./Data/Preprocess_Data/추출본(1300000~1500000).csv')\n",
    "df5 = pd.read_csv('./Data/Preprocess_Data/추출본(1500000~1650000).csv')\n",
    "df6 = pd.read_csv('./Data/Preprocess_Data/추출본(1650000~1800000).csv')\n",
    "df7 = pd.read_csv('./Data/Preprocess_Data/추출본(1800000~1900000).csv')\n",
    "df8 = pd.read_csv('./Data/Preprocess_Data/추출본(1900000~2000000).csv')\n",
    "df9 = pd.read_csv('./Data/Preprocess_Data/추출본(2000000~2128325).csv')\n",
    "df10 = pd.read_csv('./Data/Preprocess_Data/추출본(2128315~).csv')"
   ]
  },
  {
   "cell_type": "code",
   "execution_count": 62,
   "id": "c8fe395e",
   "metadata": {},
   "outputs": [],
   "source": [
    "# 앞에 10개 중복되서 제거\n",
    "df10 = df10[10:]"
   ]
  },
  {
   "cell_type": "code",
   "execution_count": 63,
   "id": "7d1b68f5",
   "metadata": {},
   "outputs": [
    {
     "data": {
      "text/plain": [
       "138838"
      ]
     },
     "execution_count": 63,
     "metadata": {},
     "output_type": "execute_result"
    }
   ],
   "source": [
    "len(df10)"
   ]
  },
  {
   "cell_type": "code",
   "execution_count": 66,
   "id": "5e62be13",
   "metadata": {},
   "outputs": [
    {
     "name": "stdout",
     "output_type": "stream",
     "text": [
      "2267163\n"
     ]
    }
   ],
   "source": [
    "# 데이터프레임을 리스트로 저장\n",
    "dfs = [df1, df2, df3, df4, df5, df6, df7, df8, df9, df10]\n",
    "\n",
    "# concat을 사용하여 데이터프레임 병합\n",
    "merge_df = pd.concat(dfs, axis=0)\n",
    "\n",
    "# 결과 확인\n",
    "print(len(merge_df))"
   ]
  },
  {
   "cell_type": "code",
   "execution_count": 67,
   "id": "67af1973",
   "metadata": {},
   "outputs": [],
   "source": [
    "# 연도 반영\n",
    "abs_df = pd.read_csv('./Data/Preprocess_Data/Abstract3.csv')"
   ]
  },
  {
   "cell_type": "code",
   "execution_count": 54,
   "id": "64e4879f",
   "metadata": {},
   "outputs": [
    {
     "data": {
      "text/plain": [
       "2265693"
      ]
     },
     "execution_count": 54,
     "metadata": {},
     "output_type": "execute_result"
    }
   ],
   "source": [
    "len(abs_df)"
   ]
  },
  {
   "cell_type": "code",
   "execution_count": 68,
   "id": "e0f3eb33",
   "metadata": {},
   "outputs": [],
   "source": [
    "merge_df['year']=list(abstract_data['Year'])"
   ]
  },
  {
   "cell_type": "code",
   "execution_count": 70,
   "id": "20959c95",
   "metadata": {},
   "outputs": [],
   "source": [
    "merge_df.reset_index(drop=True, inplace=True)"
   ]
  },
  {
   "cell_type": "code",
   "execution_count": 72,
   "id": "0e45d925",
   "metadata": {},
   "outputs": [],
   "source": [
    "merge_df.to_csv('Data/Preprocess_Data/최종추출본.csv', encoding='utf-8-sig', index=False)"
   ]
  },
  {
   "cell_type": "code",
   "execution_count": null,
   "id": "d2893726",
   "metadata": {},
   "outputs": [],
   "source": []
  }
 ],
 "metadata": {
  "kernelspec": {
   "display_name": "Python 3 (ipykernel)",
   "language": "python",
   "name": "python3"
  },
  "language_info": {
   "codemirror_mode": {
    "name": "ipython",
    "version": 3
   },
   "file_extension": ".py",
   "mimetype": "text/x-python",
   "name": "python",
   "nbconvert_exporter": "python",
   "pygments_lexer": "ipython3",
   "version": "3.8.5"
  }
 },
 "nbformat": 4,
 "nbformat_minor": 5
}
